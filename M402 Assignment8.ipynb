{
 "cells": [
  {
   "cell_type": "markdown",
   "id": "b924317d",
   "metadata": {},
   "source": [
    "<div style=\"color:#FFFFFF;background-color:Red;text-align:center;padding-top: 50px; padding-right: 30px; padding-bottom: 50px; padding-left: 80px;border-radius:10px 10px 10px 10px;\">\n",
    "    <h1>\n",
    "        Assignment 8: Decision Tree On Donor Choose\n",
    "    </h1>\n",
    "</div>"
   ]
  },
  {
   "cell_type": "markdown",
   "id": "95f654c4",
   "metadata": {},
   "source": [
    "ssignment 8: DT\n",
    "\n"
   ]
  },
  {
   "cell_type": "markdown",
   "id": "9bada258",
   "metadata": {},
   "source": [
    "### [Task-1] \n",
    "#### [1] Apply Decision Tree Classifier(DecisionTreeClassifier) on these feature sets\n",
    "- Set 1: categorical, numerical features + project_title(BOW) + preprocessed_eassay (BOW)\n",
    "- Set 2: categorical, numerical features + project_title(TFIDF)+ preprocessed_eassay (TFIDF)\n",
    "- Set 3: categorical, numerical features + project_title(AVG W2V)+ preprocessed_eassay (AVG W2V)\n",
    "- Set 4: categorical, numerical features + project_title(TFIDF W2V)+ preprocessed_eassay (TFIDF W2V)\n",
    "\n",
    "\n",
    "<h4> [2] Hyper paramter tuning (best `depth` in range [1, 5, 10, 50, 100, 500, 100], and the best `min_samples_split` in range [5, 10, 100, 500])</h4>\n",
    "\n",
    "- Find the best hyper parameter which will give the maximum AUC value\n",
    "- Find the best hyper paramter using k-fold cross validation or simple cross validation data\n",
    "- Use gridsearch cv or randomsearch cv or you can also write your own for loops to do this task of hyperparameter tuning\n",
    "\n",
    "#### [3] Graphviz\n",
    "- Visualize your decision tree with Graphviz. It helps you to understand how a decision is being made, given a new vector.\n",
    "- Since feature names are not obtained from word2vec related models, visualize only BOW & TFIDF decision trees using Graphviz\n",
    "- Make sure to print the words in each node of the decision tree instead of printing its index.\n",
    "- Just for visualization purpose, limit max_depth to 2 or 3 and either embed the generated images of graphviz in your notebook, or directly upload them as .png files.\n",
    "\n",
    "#### Representation of results\n",
    "- You need to plot the performance of model both on train data and cross validation data for each hyper parameter, like shown in the figure \n",
    "- Once after you found the best hyper parameter, you need to train your model with it, and find the AUC on test data and plot the ROC curve on both train and test. \n",
    "- Along with plotting ROC curve, you need to print the confusion matrix with predicted and original labels of test data points \n",
    "- Once after you plot the confusion matrix with the test data, get all the `false positive data points`\n",
    "- Plot the WordCloud WordCloud\n",
    "- Plot the box plot with the `price` of these `false positive data points`\n",
    "- Plot the pdf with the `teacher_number_of_previously_posted_projects` of these `false positive data points`\n",
    "\n",
    "#### [Task-2]\n",
    "- Select 5k best features from features of Set 2 using`feature_importances_`, discard all the other remaining features and then apply any of the model of you choice i.e. (Dession tree, Logistic Regression, Linear SVM), you need to do hyperparameter tuning corresponding to the model you selected and procedure in step 2 and step 3\n",
    "\n",
    "#### Conclusion\n",
    "- You need to summarize the results at the end of the notebook, summarize it in the table format. To print out a table please refer to this prettytable library (Geeks for Geeks )<a href=\"https://www.geeksforgeeks.org/creating-tables-with-prettytable-library-python/\"> Link </a>\n",
    "\n",
    "\n",
    "#### Note: Data Leakage\n",
    "- There will be an issue of data-leakage if you vectorize the entire data and then split it into train/cv/test.\n",
    "- To avoid the issue of data-leakage, make sure to split your data first and then vectorize it.\n",
    "- While vectorizing your data, apply the method fit_transform() on you train data, and apply the method transform() on cv/test data.\n",
    "- For more details please go through this link. <a href=\"https://machinelearningmastery.com/data-preparation-without-data-leakage/\"> Link </a>"
   ]
  },
  {
   "cell_type": "markdown",
   "id": "79c24f74",
   "metadata": {},
   "source": [
    "<div style=\"color:#FFFFFF;background-color:Red;text-align:center;padding-top: 50px; padding-right: 30px; padding-bottom: 50px; padding-left: 80px;border-radius:10px 10px 10px 10px;\">\n",
    "    <h1>\n",
    "        Assignment 8: We start here\n",
    "    </h1>\n",
    "</div>"
   ]
  },
  {
   "cell_type": "markdown",
   "id": "9ded29ce",
   "metadata": {},
   "source": [
    "## [1] Data Loading"
   ]
  },
  {
   "cell_type": "code",
   "execution_count": 1,
   "id": "22b00f97",
   "metadata": {},
   "outputs": [],
   "source": [
    "import pandas as pd\n",
    "import numpy as np\n",
    "import matplotlib.pyplot as plt\n",
    "import seaborn as sns\n",
    "import os\n",
    "\n",
    "\n",
    "df= pd.read_csv(r\"C:\\Users\\Faizan_Shakeel\\Desktop\\Notebooks\\Module 3\\M302 KNN\\Preprocessed_DonorsChoose_dataset.csv\")"
   ]
  },
  {
   "cell_type": "code",
   "execution_count": 2,
   "id": "7bc5e8d1",
   "metadata": {},
   "outputs": [
    {
     "name": "stdout",
     "output_type": "stream",
     "text": [
      "<class 'pandas.core.frame.DataFrame'>\n",
      "RangeIndex: 109248 entries, 0 to 109247\n",
      "Data columns (total 14 columns):\n",
      " #   Column                                        Non-Null Count   Dtype  \n",
      "---  ------                                        --------------   -----  \n",
      " 0   id                                            109248 non-null  object \n",
      " 1   teacher_prefix                                109248 non-null  object \n",
      " 2   school_state                                  109248 non-null  object \n",
      " 3   project_grade_category                        109248 non-null  object \n",
      " 4   project_subject_categories                    109248 non-null  object \n",
      " 5   project_subject_subcategories                 109248 non-null  object \n",
      " 6   teacher_number_of_previously_posted_projects  109248 non-null  int64  \n",
      " 7   project_is_approved                           109248 non-null  int64  \n",
      " 8   price                                         109248 non-null  float64\n",
      " 9   quantity                                      109248 non-null  int64  \n",
      " 10  cleaned_titles                                109205 non-null  object \n",
      " 11  cleaned_essays                                109248 non-null  object \n",
      " 12  cleaned_summary                               109248 non-null  object \n",
      " 13  isdigit_summary                               109248 non-null  int64  \n",
      "dtypes: float64(1), int64(4), object(9)\n",
      "memory usage: 11.7+ MB\n"
     ]
    }
   ],
   "source": [
    "df.info()"
   ]
  },
  {
   "cell_type": "code",
   "execution_count": 3,
   "id": "1fc57c89",
   "metadata": {},
   "outputs": [
    {
     "data": {
      "text/html": [
       "<div>\n",
       "<style scoped>\n",
       "    .dataframe tbody tr th:only-of-type {\n",
       "        vertical-align: middle;\n",
       "    }\n",
       "\n",
       "    .dataframe tbody tr th {\n",
       "        vertical-align: top;\n",
       "    }\n",
       "\n",
       "    .dataframe thead th {\n",
       "        text-align: right;\n",
       "    }\n",
       "</style>\n",
       "<table border=\"1\" class=\"dataframe\">\n",
       "  <thead>\n",
       "    <tr style=\"text-align: right;\">\n",
       "      <th></th>\n",
       "      <th>id</th>\n",
       "      <th>teacher_prefix</th>\n",
       "      <th>school_state</th>\n",
       "      <th>project_grade_category</th>\n",
       "      <th>project_subject_categories</th>\n",
       "      <th>project_subject_subcategories</th>\n",
       "      <th>teacher_number_of_previously_posted_projects</th>\n",
       "      <th>project_is_approved</th>\n",
       "      <th>price</th>\n",
       "      <th>quantity</th>\n",
       "      <th>cleaned_titles</th>\n",
       "      <th>cleaned_essays</th>\n",
       "      <th>cleaned_summary</th>\n",
       "      <th>isdigit_summary</th>\n",
       "    </tr>\n",
       "  </thead>\n",
       "  <tbody>\n",
       "    <tr>\n",
       "      <th>0</th>\n",
       "      <td>p253737</td>\n",
       "      <td>mrs</td>\n",
       "      <td>in</td>\n",
       "      <td>grades_prek_2</td>\n",
       "      <td>literacy_language</td>\n",
       "      <td>esl_literacy</td>\n",
       "      <td>0</td>\n",
       "      <td>0</td>\n",
       "      <td>154.60</td>\n",
       "      <td>23</td>\n",
       "      <td>educational support english learners home</td>\n",
       "      <td>students english learners working english seco...</td>\n",
       "      <td>students_need_opportunities_practice_beginning...</td>\n",
       "      <td>0</td>\n",
       "    </tr>\n",
       "    <tr>\n",
       "      <th>1</th>\n",
       "      <td>p258326</td>\n",
       "      <td>mr</td>\n",
       "      <td>fl</td>\n",
       "      <td>grades_6_8</td>\n",
       "      <td>history_civics_health_sports</td>\n",
       "      <td>civics_government_teamsports</td>\n",
       "      <td>7</td>\n",
       "      <td>1</td>\n",
       "      <td>299.00</td>\n",
       "      <td>1</td>\n",
       "      <td>wanted projector hungry learners</td>\n",
       "      <td>students arrive school eager learn polite gene...</td>\n",
       "      <td>students_need_projector_help_viewing_education...</td>\n",
       "      <td>0</td>\n",
       "    </tr>\n",
       "    <tr>\n",
       "      <th>2</th>\n",
       "      <td>p182444</td>\n",
       "      <td>ms</td>\n",
       "      <td>az</td>\n",
       "      <td>grades_6_8</td>\n",
       "      <td>health_sports</td>\n",
       "      <td>health_wellness_teamsports</td>\n",
       "      <td>1</td>\n",
       "      <td>0</td>\n",
       "      <td>516.85</td>\n",
       "      <td>22</td>\n",
       "      <td>soccer equipment awesome middle school students</td>\n",
       "      <td>true champions not always ones win guts mia ha...</td>\n",
       "      <td>students_need_shine_guards_athletic_socks_socc...</td>\n",
       "      <td>0</td>\n",
       "    </tr>\n",
       "  </tbody>\n",
       "</table>\n",
       "</div>"
      ],
      "text/plain": [
       "        id teacher_prefix school_state project_grade_category  \\\n",
       "0  p253737            mrs           in          grades_prek_2   \n",
       "1  p258326             mr           fl             grades_6_8   \n",
       "2  p182444             ms           az             grades_6_8   \n",
       "\n",
       "     project_subject_categories project_subject_subcategories  \\\n",
       "0             literacy_language                  esl_literacy   \n",
       "1  history_civics_health_sports  civics_government_teamsports   \n",
       "2                 health_sports    health_wellness_teamsports   \n",
       "\n",
       "   teacher_number_of_previously_posted_projects  project_is_approved   price  \\\n",
       "0                                             0                    0  154.60   \n",
       "1                                             7                    1  299.00   \n",
       "2                                             1                    0  516.85   \n",
       "\n",
       "   quantity                                   cleaned_titles  \\\n",
       "0        23        educational support english learners home   \n",
       "1         1                 wanted projector hungry learners   \n",
       "2        22  soccer equipment awesome middle school students   \n",
       "\n",
       "                                      cleaned_essays  \\\n",
       "0  students english learners working english seco...   \n",
       "1  students arrive school eager learn polite gene...   \n",
       "2  true champions not always ones win guts mia ha...   \n",
       "\n",
       "                                     cleaned_summary  isdigit_summary  \n",
       "0  students_need_opportunities_practice_beginning...                0  \n",
       "1  students_need_projector_help_viewing_education...                0  \n",
       "2  students_need_shine_guards_athletic_socks_socc...                0  "
      ]
     },
     "execution_count": 3,
     "metadata": {},
     "output_type": "execute_result"
    }
   ],
   "source": [
    "df.head(3)"
   ]
  },
  {
   "cell_type": "code",
   "execution_count": 4,
   "id": "5b6eab41",
   "metadata": {
    "scrolled": false
   },
   "outputs": [
    {
     "name": "stdout",
     "output_type": "stream",
     "text": [
      "id\n",
      "Cardinality: 109248\n",
      "Number of null values: 0\n",
      "DataType: object\n",
      "============================================================\n",
      "\n",
      "teacher_prefix\n",
      "Cardinality: 5\n",
      "Number of null values: 0\n",
      "DataType: object\n",
      "============================================================\n",
      "\n",
      "school_state\n",
      "Cardinality: 51\n",
      "Number of null values: 0\n",
      "DataType: object\n",
      "============================================================\n",
      "\n",
      "project_grade_category\n",
      "Cardinality: 4\n",
      "Number of null values: 0\n",
      "DataType: object\n",
      "============================================================\n",
      "\n",
      "project_subject_categories\n",
      "Cardinality: 51\n",
      "Number of null values: 0\n",
      "DataType: object\n",
      "============================================================\n",
      "\n",
      "project_subject_subcategories\n",
      "Cardinality: 401\n",
      "Number of null values: 0\n",
      "DataType: object\n",
      "============================================================\n",
      "\n",
      "teacher_number_of_previously_posted_projects\n",
      "Cardinality: 374\n",
      "Number of null values: 0\n",
      "DataType: int64\n",
      "============================================================\n",
      "\n",
      "project_is_approved\n",
      "Cardinality: 2\n",
      "Number of null values: 0\n",
      "DataType: int64\n",
      "============================================================\n",
      "\n",
      "price\n",
      "Cardinality: 45242\n",
      "Number of null values: 0\n",
      "DataType: float64\n",
      "============================================================\n",
      "\n",
      "quantity\n",
      "Cardinality: 332\n",
      "Number of null values: 0\n",
      "DataType: int64\n",
      "============================================================\n",
      "\n",
      "cleaned_titles\n",
      "Cardinality: 91442\n",
      "Number of null values: 43\n",
      "DataType: object\n",
      "============================================================\n",
      "\n",
      "cleaned_essays\n",
      "Cardinality: 108314\n",
      "Number of null values: 0\n",
      "DataType: object\n",
      "============================================================\n",
      "\n",
      "cleaned_summary\n",
      "Cardinality: 107885\n",
      "Number of null values: 0\n",
      "DataType: object\n",
      "============================================================\n",
      "\n",
      "isdigit_summary\n",
      "Cardinality: 2\n",
      "Number of null values: 0\n",
      "DataType: int64\n",
      "============================================================\n",
      "\n"
     ]
    }
   ],
   "source": [
    "#Features Basic Details inspections\n",
    "a= df.columns\n",
    "\n",
    "for i in range (0,len(a)):\n",
    "    print(a[i])\n",
    "    print(f\"Cardinality: {df[a[i]].nunique()}\")\n",
    "    print(f\"Number of null values: {df[a[i]].isnull().sum()}\")\n",
    "    print(f\"DataType: {df[a[i]].dtype}\")\n",
    "    print(\"==\"*30)\n",
    "    print()"
   ]
  },
  {
   "cell_type": "code",
   "execution_count": 5,
   "id": "2db6f932",
   "metadata": {},
   "outputs": [
    {
     "data": {
      "text/plain": [
       "(43699, 14)"
      ]
     },
     "execution_count": 5,
     "metadata": {},
     "output_type": "execute_result"
    }
   ],
   "source": [
    "#sampling 40% data for this assignemnt\n",
    "df.shape\n",
    "df1 = df.sample(frac=0.40)\n",
    "df1.shape"
   ]
  },
  {
   "cell_type": "code",
   "execution_count": 6,
   "id": "055f0f63",
   "metadata": {},
   "outputs": [
    {
     "name": "stdout",
     "output_type": "stream",
     "text": [
      "(43699, 13)\n"
     ]
    },
    {
     "data": {
      "text/html": [
       "<div>\n",
       "<style scoped>\n",
       "    .dataframe tbody tr th:only-of-type {\n",
       "        vertical-align: middle;\n",
       "    }\n",
       "\n",
       "    .dataframe tbody tr th {\n",
       "        vertical-align: top;\n",
       "    }\n",
       "\n",
       "    .dataframe thead th {\n",
       "        text-align: right;\n",
       "    }\n",
       "</style>\n",
       "<table border=\"1\" class=\"dataframe\">\n",
       "  <thead>\n",
       "    <tr style=\"text-align: right;\">\n",
       "      <th></th>\n",
       "      <th>id</th>\n",
       "      <th>teacher_prefix</th>\n",
       "      <th>school_state</th>\n",
       "      <th>project_grade_category</th>\n",
       "      <th>project_subject_categories</th>\n",
       "      <th>project_subject_subcategories</th>\n",
       "      <th>teacher_number_of_previously_posted_projects</th>\n",
       "      <th>price</th>\n",
       "      <th>quantity</th>\n",
       "      <th>cleaned_titles</th>\n",
       "      <th>cleaned_essays</th>\n",
       "      <th>cleaned_summary</th>\n",
       "      <th>isdigit_summary</th>\n",
       "    </tr>\n",
       "  </thead>\n",
       "  <tbody>\n",
       "    <tr>\n",
       "      <th>51488</th>\n",
       "      <td>p160747</td>\n",
       "      <td>mr</td>\n",
       "      <td>ut</td>\n",
       "      <td>grades_3_5</td>\n",
       "      <td>music_arts</td>\n",
       "      <td>visualarts</td>\n",
       "      <td>6</td>\n",
       "      <td>411.81</td>\n",
       "      <td>56</td>\n",
       "      <td>hooper elementary school art project</td>\n",
       "      <td>elementary school 650 students every single on...</td>\n",
       "      <td>students_need_art_supplies_create_large_collab...</td>\n",
       "      <td>0</td>\n",
       "    </tr>\n",
       "    <tr>\n",
       "      <th>13684</th>\n",
       "      <td>p014173</td>\n",
       "      <td>ms</td>\n",
       "      <td>ny</td>\n",
       "      <td>grades_prek_2</td>\n",
       "      <td>health_sports</td>\n",
       "      <td>health_wellness</td>\n",
       "      <td>60</td>\n",
       "      <td>495.84</td>\n",
       "      <td>35</td>\n",
       "      <td>daily fitness equals long term goals</td>\n",
       "      <td>amazing group students come walks life energet...</td>\n",
       "      <td>students_need_bean_bags_2_exercise_balls_seeds...</td>\n",
       "      <td>1</td>\n",
       "    </tr>\n",
       "    <tr>\n",
       "      <th>2833</th>\n",
       "      <td>p144457</td>\n",
       "      <td>ms</td>\n",
       "      <td>nc</td>\n",
       "      <td>grades_prek_2</td>\n",
       "      <td>literacy_language_math_science</td>\n",
       "      <td>literacy_mathematics</td>\n",
       "      <td>0</td>\n",
       "      <td>356.85</td>\n",
       "      <td>1</td>\n",
       "      <td>room 204 learning floor</td>\n",
       "      <td>teach title school rural north carolina 100 pe...</td>\n",
       "      <td>students_need_carpet_place_work_learn_collabor...</td>\n",
       "      <td>0</td>\n",
       "    </tr>\n",
       "  </tbody>\n",
       "</table>\n",
       "</div>"
      ],
      "text/plain": [
       "            id teacher_prefix school_state project_grade_category  \\\n",
       "51488  p160747             mr           ut             grades_3_5   \n",
       "13684  p014173             ms           ny          grades_prek_2   \n",
       "2833   p144457             ms           nc          grades_prek_2   \n",
       "\n",
       "           project_subject_categories project_subject_subcategories  \\\n",
       "51488                      music_arts                    visualarts   \n",
       "13684                   health_sports               health_wellness   \n",
       "2833   literacy_language_math_science          literacy_mathematics   \n",
       "\n",
       "       teacher_number_of_previously_posted_projects   price  quantity  \\\n",
       "51488                                             6  411.81        56   \n",
       "13684                                            60  495.84        35   \n",
       "2833                                              0  356.85         1   \n",
       "\n",
       "                             cleaned_titles  \\\n",
       "51488  hooper elementary school art project   \n",
       "13684  daily fitness equals long term goals   \n",
       "2833                room 204 learning floor   \n",
       "\n",
       "                                          cleaned_essays  \\\n",
       "51488  elementary school 650 students every single on...   \n",
       "13684  amazing group students come walks life energet...   \n",
       "2833   teach title school rural north carolina 100 pe...   \n",
       "\n",
       "                                         cleaned_summary  isdigit_summary  \n",
       "51488  students_need_art_supplies_create_large_collab...                0  \n",
       "13684  students_need_bean_bags_2_exercise_balls_seeds...                1  \n",
       "2833   students_need_carpet_place_work_learn_collabor...                0  "
      ]
     },
     "execution_count": 6,
     "metadata": {},
     "output_type": "execute_result"
    }
   ],
   "source": [
    "y= df1['project_is_approved']\n",
    "df1.drop(columns=['project_is_approved'], inplace= True)\n",
    "\n",
    "print(df1.shape)\n",
    "df1.head(3)"
   ]
  },
  {
   "cell_type": "markdown",
   "id": "6bff6810",
   "metadata": {},
   "source": [
    "# [2] Feturizations"
   ]
  },
  {
   "cell_type": "markdown",
   "id": "84922ec6",
   "metadata": {},
   "source": [
    "we already have preprocesses data, and can we done using [Amazon Fine Food Review Chapter is detail}"
   ]
  },
  {
   "cell_type": "code",
   "execution_count": 7,
   "id": "e469acf4",
   "metadata": {},
   "outputs": [
    {
     "name": "stdout",
     "output_type": "stream",
     "text": [
      "Training data shape: (31463, 13) (31463,)\n",
      "Cross Val data shape: (3496, 13) (3496,)\n",
      "Test data shape: (8740, 13) (8740,)\n"
     ]
    }
   ],
   "source": [
    "# Before Feturizaton, it's good practice to split data in test and train to avoid [Data Leakge]\n",
    "\n",
    "from sklearn.model_selection import train_test_split\n",
    "X_train, X_test, y_train, y_test = train_test_split( df1, y, test_size=0.20, random_state=42)\n",
    "X_train, X_cv, y_train, y_cv= train_test_split( X_train, y_train, test_size=0.10, random_state=42)\n",
    "\n",
    "print(\"Training data shape:\", X_train.shape, y_train.shape)\n",
    "print(\"Cross Val data shape:\", X_cv.shape, y_cv.shape)\n",
    "print(\"Test data shape:\", X_test.shape, y_test.shape)"
   ]
  },
  {
   "cell_type": "markdown",
   "id": "eebac9c8",
   "metadata": {},
   "source": [
    "### Handling skewness -oversampling traing data"
   ]
  },
  {
   "cell_type": "code",
   "execution_count": 8,
   "id": "7f2ce232",
   "metadata": {},
   "outputs": [
    {
     "name": "stdout",
     "output_type": "stream",
     "text": [
      "Training target variable distribution:\n",
      " 1    26703\n",
      "0     4760\n",
      "Name: project_is_approved, dtype: int64\n",
      "1    26703\n",
      "0    26703\n",
      "Name: project_is_approved, dtype: int64\n",
      "(53406, 13)\n"
     ]
    }
   ],
   "source": [
    "print(\"Training target variable distribution:\\n\", y_train.value_counts())\n",
    "\n",
    "from imblearn.over_sampling import RandomOverSampler\n",
    "\n",
    "ros = RandomOverSampler(sampling_strategy='minority', random_state=42)\n",
    "X_train, y_train = ros.fit_resample(X_train, y_train)\n",
    "\n",
    "\n",
    "print(y_train.value_counts())\n",
    "print(X_train.shape)"
   ]
  },
  {
   "cell_type": "markdown",
   "id": "d9bc9f35",
   "metadata": {},
   "source": [
    "### 2.1 Handling Numarical Features"
   ]
  },
  {
   "cell_type": "code",
   "execution_count": 9,
   "id": "beb4f263",
   "metadata": {},
   "outputs": [
    {
     "name": "stdout",
     "output_type": "stream",
     "text": [
      "['teacher_number_of_previously_posted_projects', 'price', 'quantity', 'isdigit_summary']\n"
     ]
    }
   ],
   "source": [
    "# 1 Getting list of numarical features\n",
    "def get_numerical_columns(df):\n",
    "    numerical_cols = []\n",
    "    for col in df.columns:\n",
    "        if df[col].dtype in ['int64', 'float64']:\n",
    "            numerical_cols.append(col)\n",
    "    return numerical_cols\n",
    "\n",
    "num_cols= get_numerical_columns(X_train)\n",
    "print(num_cols)"
   ]
  },
  {
   "cell_type": "code",
   "execution_count": 12,
   "id": "9deac688",
   "metadata": {},
   "outputs": [
    {
     "data": {
      "text/plain": [
       "array([[<Axes: title={'center': 'teacher_number_of_previously_posted_projects'}>,\n",
       "        <Axes: title={'center': 'price'}>],\n",
       "       [<Axes: title={'center': 'quantity'}>,\n",
       "        <Axes: title={'center': 'isdigit_summary'}>]], dtype=object)"
      ]
     },
     "execution_count": 12,
     "metadata": {},
     "output_type": "execute_result"
    },
    {
     "data": {
      "image/png": "[encoded data removed]",
      "text/plain": [
       "<Figure size 400x400 with 4 Axes>"
      ]
     },
     "metadata": {},
     "output_type": "display_data"
    }
   ],
   "source": [
    "#checking distributions of numarical features\n",
    "df1[num_cols].hist(figsize=(4,4))"
   ]
  },
  {
   "cell_type": "code",
   "execution_count": 13,
   "id": "9d261134",
   "metadata": {},
   "outputs": [],
   "source": [
    "#minmax scaling\n",
    "from sklearn.preprocessing import MinMaxScaler\n",
    "scalar = MinMaxScaler()\n",
    "\n",
    "scalar.fit(X_train[num_cols]) #fit has happen on only train data\n",
    "\n",
    "X_train_nc_scaled = scalar.transform(X_train[num_cols])\n",
    "X_test_nc_scaled  = scalar.transform(X_test[num_cols])\n",
    "X_cv_nc_scaled    = scalar.transform(X_cv[num_cols])"
   ]
  },
  {
   "cell_type": "code",
   "execution_count": 14,
   "id": "ed610b6c",
   "metadata": {},
   "outputs": [],
   "source": [
    "#converting all to csr matrix, later use hstack\n",
    "from scipy.sparse import hstack, csr_matrix\n",
    "\n",
    "X_train_nc_scaled_csr = csr_matrix(X_train_nc_scaled)\n",
    "X_test_nc_scaled_csr  = csr_matrix(X_test_nc_scaled)\n",
    "X_cv_nc_scaled_csr    = csr_matrix(X_cv_nc_scaled)"
   ]
  },
  {
   "cell_type": "markdown",
   "id": "4cd13d70",
   "metadata": {},
   "source": [
    "### 2.1 Handling Categorical Features"
   ]
  },
  {
   "cell_type": "code",
   "execution_count": 15,
   "id": "c4f2dedb",
   "metadata": {},
   "outputs": [
    {
     "name": "stdout",
     "output_type": "stream",
     "text": [
      "['teacher_prefix', 'school_state', 'project_grade_category', 'project_subject_categories', 'project_subject_subcategories']\n"
     ]
    }
   ],
   "source": [
    "# 1 Getting list of categroical features\n",
    "def get_categorical_columns(df):\n",
    "    cat_cols = []\n",
    "    for i in df.columns:\n",
    "        if df[i].dtype in ['object'] and df[i].nunique()< 405:\n",
    "            cat_cols.append(i)\n",
    "    return cat_cols\n",
    "\n",
    "Cat_cols= get_categorical_columns(df)\n",
    "print(Cat_cols)"
   ]
  },
  {
   "cell_type": "code",
   "execution_count": 16,
   "id": "d62b04ac",
   "metadata": {},
   "outputs": [
    {
     "name": "stdout",
     "output_type": "stream",
     "text": [
      "teacher_prefix\n",
      "Cardinality: 5\n",
      "Number of null values: 0\n",
      "DataType: object\n",
      "============================================================\n",
      "\n",
      "school_state\n",
      "Cardinality: 51\n",
      "Number of null values: 0\n",
      "DataType: object\n",
      "============================================================\n",
      "\n",
      "project_grade_category\n",
      "Cardinality: 4\n",
      "Number of null values: 0\n",
      "DataType: object\n",
      "============================================================\n",
      "\n",
      "project_subject_categories\n",
      "Cardinality: 51\n",
      "Number of null values: 0\n",
      "DataType: object\n",
      "============================================================\n",
      "\n",
      "project_subject_subcategories\n",
      "Cardinality: 401\n",
      "Number of null values: 0\n",
      "DataType: object\n",
      "============================================================\n",
      "\n"
     ]
    }
   ],
   "source": [
    "a= Cat_cols\n",
    "for i in range (0,len(a)):\n",
    "    print(a[i])\n",
    "    print(f\"Cardinality: {df[a[i]].nunique()}\")\n",
    "    print(f\"Number of null values: {df[a[i]].isnull().sum()}\")\n",
    "    print(f\"DataType: {df[a[i]].dtype}\")\n",
    "    print(\"==\"*30)\n",
    "    print()"
   ]
  },
  {
   "cell_type": "markdown",
   "id": "69d2dc2a",
   "metadata": {},
   "source": [
    "<b> Using Countvectorizor to do ohe (one hot encoding)"
   ]
  },
  {
   "cell_type": "code",
   "execution_count": 17,
   "id": "8e22fbec",
   "metadata": {},
   "outputs": [
    {
     "name": "stdout",
     "output_type": "stream",
     "text": [
      "['teacher_prefix', 'school_state', 'project_grade_category', 'project_subject_categories', 'project_subject_subcategories']\n"
     ]
    }
   ],
   "source": [
    "print(Cat_cols)"
   ]
  },
  {
   "cell_type": "code",
   "execution_count": 18,
   "id": "ac63a23f",
   "metadata": {},
   "outputs": [],
   "source": [
    "#teacher_prefix -tp\n",
    "from sklearn.feature_extraction.text import CountVectorizer\n",
    "cvect_tp = CountVectorizer()\n",
    "\n",
    "cvect_tp.fit(X_train[Cat_cols[0]])\n",
    "\n",
    "train_tp_ohe = cvect_tp.transform(X_train[Cat_cols[0]])\n",
    "test_tp_ohe = cvect_tp.transform(X_test[Cat_cols[0]])\n",
    "cv_tp_ohe = cvect_tp.transform(X_cv[Cat_cols[0]])"
   ]
  },
  {
   "cell_type": "code",
   "execution_count": 19,
   "id": "a5553126",
   "metadata": {},
   "outputs": [],
   "source": [
    "#'school_state' -ss\n",
    "from sklearn.feature_extraction.text import CountVectorizer\n",
    "cvect_ss = CountVectorizer()\n",
    "\n",
    "cvect_ss.fit(X_train[Cat_cols[1]])\n",
    "\n",
    "train_ss_ohe = cvect_ss.transform(X_train[Cat_cols[1]])\n",
    "test_ss_ohe = cvect_ss.transform(X_test[Cat_cols[1]])\n",
    "cv_ss_ohe = cvect_ss.transform(X_cv[Cat_cols[1]])"
   ]
  },
  {
   "cell_type": "code",
   "execution_count": 20,
   "id": "16585e0e",
   "metadata": {},
   "outputs": [
    {
     "name": "stdout",
     "output_type": "stream",
     "text": [
      "(53406, 4) (8740, 4) (3496, 4)\n"
     ]
    }
   ],
   "source": [
    "#'project_grade_category\"-pgc\n",
    "from sklearn.feature_extraction.text import CountVectorizer\n",
    "cvect_pgc = CountVectorizer()\n",
    "\n",
    "cvect_pgc.fit(X_train[Cat_cols[2]])    #fit has happen on train data only\n",
    "\n",
    "train_pgc_ohe = cvect_pgc.transform(X_train[Cat_cols[2]])\n",
    "test_pgc_ohe = cvect_pgc.transform(X_test[Cat_cols[2]])\n",
    "cv_pgc_ohe = cvect_pgc.transform(X_cv[Cat_cols[2]])\n",
    "\n",
    "print(train_pgc_ohe.shape, test_pgc_ohe.shape, cv_pgc_ohe.shape)"
   ]
  },
  {
   "cell_type": "code",
   "execution_count": 21,
   "id": "57fa97b1",
   "metadata": {},
   "outputs": [
    {
     "name": "stdout",
     "output_type": "stream",
     "text": [
      "(53406, 51) (8740, 51) (3496, 51)\n"
     ]
    }
   ],
   "source": [
    "# 'project_subject_categories'-psc\n",
    "cvect_psc = CountVectorizer()\n",
    "\n",
    "cvect_psc.fit(X_train[Cat_cols[3]])    #fit has happen on train data only\n",
    "\n",
    "train_psc_ohe = cvect_psc.transform(X_train[Cat_cols[3]])\n",
    "test_psc_ohe = cvect_psc.transform(X_test[Cat_cols[3]])\n",
    "cv_psc_ohe = cvect_psc.transform(X_cv[Cat_cols[3]])\n",
    "\n",
    "print(train_psc_ohe.shape, test_psc_ohe.shape, cv_psc_ohe.shape)"
   ]
  },
  {
   "cell_type": "code",
   "execution_count": 22,
   "id": "ed4f4121",
   "metadata": {},
   "outputs": [
    {
     "name": "stdout",
     "output_type": "stream",
     "text": [
      "(53406, 354) (8740, 354) (3496, 354)\n"
     ]
    }
   ],
   "source": [
    "# 'project_subject_subcategories'- pssc\n",
    "cvect_pssc = CountVectorizer()\n",
    "\n",
    "cvect_pssc.fit(X_train[Cat_cols[4]])    #fit has happen on train data only\n",
    "\n",
    "train_pssc_ohe = cvect_pssc.transform(X_train[Cat_cols[4]])\n",
    "test_pssc_ohe = cvect_pssc.transform(X_test[Cat_cols[4]])\n",
    "cv_pssc_ohe = cvect_pssc.transform(X_cv[Cat_cols[4]])\n",
    "\n",
    "print(train_pssc_ohe.shape, test_pssc_ohe.shape, cv_pssc_ohe.shape)"
   ]
  },
  {
   "cell_type": "markdown",
   "id": "6732436c",
   "metadata": {},
   "source": [
    "Now we have:\n",
    "- train_tp_ohe, train_ss_ohe, train_pgc_ohe, train_psc_ohe, train_pssc_ohe\n",
    "- test_tp_ohe, test_ss_ohe, test_pgc_ohe, test_psc_ohe, test_pssc_ohe\n",
    "- cv_tp_ohe, cv_ss_ohe, cv_pgc_ohe, cv_psc_ohe, cv_pssc_ohe"
   ]
  },
  {
   "cell_type": "code",
   "execution_count": 23,
   "id": "57e8734d",
   "metadata": {},
   "outputs": [
    {
     "data": {
      "text/plain": [
       "(53406, 465)"
      ]
     },
     "execution_count": 23,
     "metadata": {},
     "output_type": "execute_result"
    }
   ],
   "source": [
    "#stacking all to, later use hstack\n",
    "from scipy.sparse import hstack, csr_matrix\n",
    "\n",
    "X_train_catcols_ohe_csr = hstack([train_tp_ohe, train_ss_ohe, train_pgc_ohe, train_psc_ohe, train_pssc_ohe])\n",
    "X_test_catcols_ohe_csr  = hstack([test_tp_ohe, test_ss_ohe, test_pgc_ohe, test_psc_ohe, test_pssc_ohe])\n",
    "X_cv_catcols_ohe_csr    = hstack([cv_tp_ohe, cv_ss_ohe, cv_pgc_ohe, cv_psc_ohe, cv_pssc_ohe])\n",
    "\n",
    "X_train_catcols_ohe_csr.shape                       #shape (357+50+4+56)"
   ]
  },
  {
   "cell_type": "markdown",
   "id": "1a2fd723",
   "metadata": {},
   "source": [
    "## [3] Handling Text Features \n",
    "<b>['cleaned_titles', 'cleaned_essays']"
   ]
  },
  {
   "cell_type": "code",
   "execution_count": 28,
   "id": "3c1fa0fd",
   "metadata": {},
   "outputs": [
    {
     "name": "stdout",
     "output_type": "stream",
     "text": [
      "Is Null in  cleaned_titles : 0\n",
      "Cardinality  cleaned_titles : 8262\n",
      "60538                          preschool stem play everyday\n",
      "55432                                      basic essentials\n",
      "81099     flexible foundations help fidgety first grader...\n",
      "31050                                      makey ing sparks\n",
      "92128                                      supplies no lies\n",
      "                                ...                        \n",
      "101804                            steam learning technology\n",
      "30650           materials books students severe disabilites\n",
      "37832                                 math centers revamped\n",
      "78277                         toys enrich students learning\n",
      "10454                 bringing science social studies alive\n",
      "Name: cleaned_titles, Length: 8740, dtype: object\n",
      "no null values\n"
     ]
    }
   ],
   "source": [
    "#2 checking null values one by one and imputing: missing value as info\n",
    "txt_cols= ['cleaned_titles', 'cleaned_essays']\n",
    "d= X_test  #chenge for all\n",
    "\n",
    "a= txt_cols[0]\n",
    "print(\"Is Null in \",a,\":\", d[a].isnull().sum())\n",
    "print(\"Cardinality \",a,\":\", d[a].nunique())\n",
    "print(d[a])\n",
    "\n",
    "\n",
    "#imputing: missing value-as info\n",
    "if d[a].isnull().sum()>0:\n",
    "    d[a]= d[a].fillna('Unavilable')\n",
    "    print('Imputed')\n",
    "else:\n",
    "    print('no null values')"
   ]
  },
  {
   "cell_type": "markdown",
   "id": "b78b861e",
   "metadata": {},
   "source": [
    "### [3.1] BOW Feturization"
   ]
  },
  {
   "cell_type": "code",
   "execution_count": 29,
   "id": "7cef0cea",
   "metadata": {},
   "outputs": [
    {
     "name": "stdout",
     "output_type": "stream",
     "text": [
      "Shapes of Train, Test and CV resp:  (53406, 2235) (8740, 2235) (3496, 2235)\n"
     ]
    }
   ],
   "source": [
    "#'cleaned_titles'-ct    :: ['cleaned_titles', 'cleaned_essays']\n",
    "\n",
    "from sklearn.feature_extraction.text import CountVectorizer\n",
    "cvect_ct= CountVectorizer(min_df=10)\n",
    "\n",
    "cvect_ct.fit(X_train[txt_cols[0]])  #fit happen on train data only\n",
    "\n",
    "train_ct_bow= cvect_ct.transform(X_train[txt_cols[0]])\n",
    "test_ct_bow = cvect_ct.transform(X_test[txt_cols[0]])\n",
    "cv_ct_bow   = cvect_ct.transform(X_cv[txt_cols[0]])\n",
    "\n",
    "\n",
    "print(\"Shapes of Train, Test and CV resp: \",train_ct_bow.shape, test_ct_bow.shape, cv_ct_bow.shape )"
   ]
  },
  {
   "cell_type": "code",
   "execution_count": 30,
   "id": "90823542",
   "metadata": {},
   "outputs": [
    {
     "name": "stdout",
     "output_type": "stream",
     "text": [
      "Shapes of Train, Test and CV resp:  (53406, 5000) (8740, 5000) (3496, 5000)\n"
     ]
    }
   ],
   "source": [
    "#'cleaned_essays'-ess :: ['cleaned_titles', 'cleaned_essays']\n",
    "\n",
    "from sklearn.feature_extraction.text import CountVectorizer\n",
    "cvect_ct_ess= CountVectorizer(min_df=10, max_features=5000)\n",
    "\n",
    "cvect_ct_ess.fit(X_train[txt_cols[1]])  #fit happen on train data only\n",
    "\n",
    "train_ess_bow= cvect_ct_ess.transform(X_train[txt_cols[1]])\n",
    "test_ess_bow = cvect_ct_ess.transform(X_test[txt_cols[1]])\n",
    "cv_ess_bow   = cvect_ct_ess.transform(X_cv[txt_cols[1]])\n",
    "\n",
    "\n",
    "print(\"Shapes of Train, Test and CV resp: \",train_ess_bow.shape, test_ess_bow.shape, cv_ess_bow.shape )"
   ]
  },
  {
   "cell_type": "markdown",
   "id": "662a87b3",
   "metadata": {},
   "source": [
    "### [3.2] tf-idf Feturization"
   ]
  },
  {
   "cell_type": "code",
   "execution_count": 31,
   "id": "738aad18",
   "metadata": {},
   "outputs": [
    {
     "name": "stdout",
     "output_type": "stream",
     "text": [
      "Shapes of Train, Test and CV resp:  (53406, 2235) (8740, 2235) (3496, 2235)\n"
     ]
    }
   ],
   "source": [
    "#'cleaned_titles'-ct    :: ['cleaned_titles', 'cleaned_essays']\n",
    "\n",
    "from sklearn.feature_extraction.text import TfidfVectorizer\n",
    "\n",
    "tfidfvect_ct= TfidfVectorizer(min_df=10)\n",
    "\n",
    "tfidfvect_ct.fit(X_train[txt_cols[0]])  #fit happen on train data only\n",
    "\n",
    "train_ct_tfidf= tfidfvect_ct.transform(X_train[txt_cols[0]])\n",
    "test_ct_tfidf = tfidfvect_ct.transform(X_test[txt_cols[0]])\n",
    "cv_ct_tfidf   = tfidfvect_ct.transform(X_cv[txt_cols[0]])\n",
    "\n",
    "\n",
    "print(\"Shapes of Train, Test and CV resp: \",train_ct_tfidf.shape, test_ct_tfidf.shape, cv_ct_tfidf.shape )"
   ]
  },
  {
   "cell_type": "code",
   "execution_count": 41,
   "id": "b3dc39ca",
   "metadata": {},
   "outputs": [
    {
     "name": "stdout",
     "output_type": "stream",
     "text": [
      "Shapes of Train, Test and CV resp:  (53406, 5000) (8740, 5000) (3496, 5000)\n"
     ]
    }
   ],
   "source": [
    "#'cleaned_essays'-ess :: ['cleaned_titles', 'cleaned_essays']\n",
    "\n",
    "tfidfvect_ct_ess= CountVectorizer(min_df=10, max_features=5000)\n",
    "tfidfvect_ct_ess.fit(X_train[txt_cols[1]])  #fit happen on train data only\n",
    "\n",
    "\n",
    "train_ess_tfidf= tfidfvect_ct_ess.transform(X_train[txt_cols[1]])\n",
    "test_ess_tfidf = tfidfvect_ct_ess.transform(X_test[txt_cols[1]])\n",
    "cv_ess_tfidf   = tfidfvect_ct_ess.transform(X_cv[txt_cols[1]])\n",
    "\n",
    "\n",
    "print(\"Shapes of Train, Test and CV resp: \",train_ess_tfidf.shape, test_ess_tfidf.shape, cv_ess_tfidf.shape )"
   ]
  },
  {
   "cell_type": "markdown",
   "id": "4b2e6841",
   "metadata": {},
   "source": [
    "### [3.3] avg word2vec"
   ]
  },
  {
   "cell_type": "code",
   "execution_count": 33,
   "id": "1b0f2757",
   "metadata": {},
   "outputs": [],
   "source": [
    "#avg_word2vech\n",
    "from gensim.models import Word2Vec\n",
    "\n",
    "titles = X_train['cleaned_titles'].apply(lambda x: x.split()).tolist()\n",
    "essays = X_train['cleaned_essays'].apply(lambda x: x.split()).tolist()\n",
    "all_texts = titles + essays                        #to train word2veck\n",
    "\n",
    "# Train Word2Vec model\n",
    "w2v_model = Word2Vec(sentences=all_texts, vector_size=100, window=5, min_count=1, workers=4)\n",
    "\n",
    "# Average Word2Vec\n",
    "def avg_word2vec(text, model):\n",
    "    words = text.split()\n",
    "    word_vecs = [model.wv[word] for word in words if word in model.wv]\n",
    "    if len(word_vecs) == 0:\n",
    "        return np.zeros(model.vector_size)\n",
    "    return np.mean(word_vecs, axis=0)\n",
    "\n",
    "# Apply average Word2Vec to cleaned essay\n",
    "avg_w2v_titles_train= X_train['cleaned_titles'].apply(lambda x: avg_word2vec(x, w2v_model))\n",
    "avg_w2v_titles_test = X_test['cleaned_titles'].apply(lambda x: avg_word2vec(x, w2v_model))\n",
    "avg_w2v_titles_cv   = X_cv['cleaned_titles'].apply(lambda x: avg_word2vec(x, w2v_model))\n",
    "\n",
    "\n",
    "\n",
    "# Apply average Word2Vec to cleaned essay\n",
    "avg_w2v_essays_train = X_train['cleaned_essays'].apply(lambda x: avg_word2vec(x, w2v_model))\n",
    "avg_w2v_essays_test  = X_test['cleaned_essays'].apply(lambda x: avg_word2vec(x, w2v_model))\n",
    "avg_w2v_essays_cv    = X_cv['cleaned_essays'].apply(lambda x: avg_word2vec(x, w2v_model))"
   ]
  },
  {
   "cell_type": "code",
   "execution_count": 34,
   "id": "f840a8e1",
   "metadata": {},
   "outputs": [],
   "source": [
    "#2. Series to matrix and then csr\n",
    "import numpy as np\n",
    "from scipy.sparse import csr_matrix\n",
    "\n",
    "# Convert series of numpy arrays to a dense matrix\n",
    "def series_to_matrix(series):\n",
    "    return np.vstack(series.to_numpy())\n",
    "\n",
    "# Convert the dense matrix to a CSR matrix\n",
    "def convert_to_csr(matrix):\n",
    "    return csr_matrix(matrix)\n",
    "\n",
    "\n",
    "\n",
    "# Prepare the data\n",
    "avg_w2v_titles_train_matrix = series_to_matrix(avg_w2v_titles_train)\n",
    "avg_w2v_titles_test_matrix = series_to_matrix(avg_w2v_titles_test)\n",
    "avg_w2v_titles_cv_matrix = series_to_matrix(avg_w2v_titles_cv)\n",
    "\n",
    "avg_w2v_essays_train_matrix = series_to_matrix(avg_w2v_essays_train)\n",
    "avg_w2v_essays_test_matrix = series_to_matrix(avg_w2v_essays_test)\n",
    "avg_w2v_essays_cv_matrix = series_to_matrix(avg_w2v_essays_cv)\n",
    "\n",
    "\n",
    "\n",
    "\n",
    "# Convert to CSR matrices\n",
    "csr_avg_w2v_titles_train = convert_to_csr(avg_w2v_titles_train_matrix)\n",
    "csr_avg_w2v_titles_test = convert_to_csr(avg_w2v_titles_test_matrix)\n",
    "csr_avg_w2v_titles_cv = convert_to_csr(avg_w2v_titles_cv_matrix)\n",
    "\n",
    "csr_avg_w2v_essays_train = convert_to_csr(avg_w2v_essays_train_matrix)\n",
    "csr_avg_w2v_essays_test = convert_to_csr(avg_w2v_essays_test_matrix)\n",
    "csr_avg_w2v_essays_cv = convert_to_csr(avg_w2v_essays_cv_matrix)\n",
    "\n",
    "# Now you can use these CSR matrices to train your model"
   ]
  },
  {
   "cell_type": "markdown",
   "id": "0f9fa867",
   "metadata": {},
   "source": [
    "### [3.4] tfidf weighted word2vec"
   ]
  },
  {
   "cell_type": "code",
   "execution_count": 36,
   "id": "4deeb560",
   "metadata": {},
   "outputs": [],
   "source": [
    "# TF-IDF weighted Word2Vec- used above trained Word2veck\n",
    "tfidf = TfidfVectorizer()\n",
    "\n",
    "tfidf.fit(X_train['cleaned_titles'] + ' ' + X_train['cleaned_essays'])\n",
    "tfidf_vocab = tfidf.vocabulary_\n",
    "tfidf_weights = dict(zip(tfidf.get_feature_names_out(), tfidf.idf_))  #https://www.w3schools.com/python/ref_func_zip.asp\n",
    "\n",
    "def tfidf_w2v(text, model, tfidf_vocab, tfidf_weights):\n",
    "    words = text.split()\n",
    "    word_vecs = []\n",
    "    for word in words:\n",
    "        if word in model.wv and word in tfidf_vocab:\n",
    "            word_vecs.append(model.wv[word] * tfidf_weights[word])\n",
    "    if len(word_vecs) == 0:\n",
    "        return np.zeros(model.vector_size)\n",
    "    return np.mean(word_vecs, axis=0)\n",
    "\n",
    "\n",
    "\n",
    "# Apply TF-IDF weighted Word2Vec to the cleaned_titles\n",
    "tfidf_w2v_titles_train= X_train['cleaned_titles'].apply(lambda x: tfidf_w2v(x, w2v_model, tfidf_vocab, tfidf_weights))\n",
    "tfidf_w2v_titles_test = X_test['cleaned_titles'].apply(lambda x: tfidf_w2v(x, w2v_model, tfidf_vocab, tfidf_weights))\n",
    "tfidf_w2v_titles_cv   = X_cv['cleaned_titles'].apply(lambda x: tfidf_w2v(x, w2v_model, tfidf_vocab, tfidf_weights))\n",
    "\n",
    "\n",
    "\n",
    "# Apply TF-IDF weighted Word2Vec to the cleaned_essay\n",
    "tfidf_w2v_essays_train= X_train['cleaned_essays'].apply(lambda x: tfidf_w2v(x, w2v_model, tfidf_vocab, tfidf_weights))\n",
    "tfidf_w2v_essays_test = X_test['cleaned_essays'].apply(lambda x: tfidf_w2v(x, w2v_model, tfidf_vocab, tfidf_weights))\n",
    "tfidf_w2v_essays_cv   = X_cv['cleaned_essays'].apply(lambda x: tfidf_w2v(x, w2v_model, tfidf_vocab, tfidf_weights))"
   ]
  },
  {
   "cell_type": "code",
   "execution_count": 37,
   "id": "605f724d",
   "metadata": {},
   "outputs": [
    {
     "name": "stdout",
     "output_type": "stream",
     "text": [
      "Shapes of Titels, train, test, cv\n",
      "(53406, 100)\n",
      "(8740, 100)\n",
      "(3496, 100)\n",
      "============================================================\n",
      "Shapes of essay, train, test, cv\n",
      "(53406, 100)\n",
      "(8740, 100)\n",
      "(3496, 100)\n"
     ]
    }
   ],
   "source": [
    "#2. Series to matrix and then csr\n",
    "\n",
    "import numpy as np\n",
    "from scipy.sparse import csr_matrix\n",
    "\n",
    "# Convert series of numpy arrays to a dense matrix\n",
    "def series_to_matrix(series):\n",
    "    return np.vstack(series.to_numpy())\n",
    "\n",
    "# Convert the dense matrix to a CSR matrix\n",
    "def convert_to_csr(matrix):\n",
    "    return csr_matrix(matrix)\n",
    "\n",
    "\n",
    "#prepare data (series to matrix)-- Directrly converting to csr\n",
    "csr_tfidf_w2v_titles_train = csr_matrix(series_to_matrix(tfidf_w2v_titles_train))\n",
    "csr_tfidf_w2v_titles_test  = csr_matrix(series_to_matrix(tfidf_w2v_titles_test))\n",
    "csr_tfidf_w2v_titles_cv    = csr_matrix(series_to_matrix(tfidf_w2v_titles_cv))\n",
    "\n",
    "\n",
    "csr_tfidf_w2v_essays_train = csr_matrix(series_to_matrix(tfidf_w2v_essays_train))\n",
    "csr_tfidf_w2v_essays_test  = csr_matrix(series_to_matrix(tfidf_w2v_essays_test))\n",
    "csr_tfidf_w2v_essays_cv    = csr_matrix(series_to_matrix(tfidf_w2v_essays_cv))\n",
    "\n",
    "\n",
    "\n",
    "print(\"Shapes of Titels, train, test, cv\")\n",
    "print(csr_tfidf_w2v_titles_train.shape)\n",
    "print(csr_tfidf_w2v_titles_test.shape)\n",
    "print(csr_tfidf_w2v_titles_cv.shape)\n",
    "print(\"==\"*30)\n",
    "\n",
    "print(\"Shapes of essay, train, test, cv\")\n",
    "print(csr_tfidf_w2v_essays_train.shape)\n",
    "print(csr_tfidf_w2v_essays_test.shape)\n",
    "print(csr_tfidf_w2v_essays_cv.shape)"
   ]
  },
  {
   "cell_type": "markdown",
   "id": "ae99d088",
   "metadata": {},
   "source": [
    "# [4] Modeling"
   ]
  },
  {
   "cell_type": "markdown",
   "id": "598b9094",
   "metadata": {},
   "source": [
    "### [Task-1] \n",
    "#### [1] Apply Decision Tree Classifier(DecisionTreeClassifier) on these feature sets\n",
    "- Set 1: categorical, numerical features + project_title(BOW) + preprocessed_eassay (BOW)\n",
    "- Set 2: categorical, numerical features + project_title(TFIDF)+ preprocessed_eassay (TFIDF)\n",
    "- Set 3: categorical, numerical features + project_title(AVG W2V)+ preprocessed_eassay (AVG W2V)\n",
    "- Set 4: categorical, numerical features + project_title(TFIDF W2V)+ preprocessed_eassay (TFIDF W2V)"
   ]
  },
  {
   "cell_type": "markdown",
   "id": "4b37e7fd",
   "metadata": {},
   "source": [
    "### [Task 1---Set 1]"
   ]
  },
  {
   "cell_type": "code",
   "execution_count": 38,
   "id": "10128d1f",
   "metadata": {},
   "outputs": [
    {
     "name": "stdout",
     "output_type": "stream",
     "text": [
      "Train Set-1 shapes: (53406, 7704) (53406,)\n",
      "Test Set-1 shapes: (8740, 7704) (8740,)\n",
      "Cross Val Set-1 shapes: (3496, 7704) (3496,)\n"
     ]
    }
   ],
   "source": [
    "#prepare set1 [categorical, numerical features + project_title(BOW) + preprocessed_eassay (BOW)]\n",
    "from scipy.sparse import hstack, csr_matrix\n",
    "\n",
    "#stacking all \n",
    "X_train_set1= hstack([X_train_nc_scaled_csr, X_train_catcols_ohe_csr,train_ct_bow, train_ess_bow ])\n",
    "X_test_set1 = hstack([X_test_nc_scaled_csr, X_test_catcols_ohe_csr, test_ct_bow, test_ess_bow ])\n",
    "X_cv_set1   = hstack([X_cv_nc_scaled_csr, X_cv_catcols_ohe_csr,  cv_ct_bow, cv_ess_bow ])\n",
    "\n",
    "\n",
    "print(\"Train Set-1 shapes:\",X_train_set1.shape, y_train.shape)\n",
    "print(\"Test Set-1 shapes:\", X_test_set1.shape, y_test.shape)\n",
    "print(\"Cross Val Set-1 shapes:\",X_cv_set1.shape, y_cv.shape)"
   ]
  },
  {
   "cell_type": "code",
   "execution_count": 40,
   "id": "50b7d91c",
   "metadata": {},
   "outputs": [
    {
     "data": {
      "text/plain": [
       "array([0.92023966, 0.91368658, 0.91743119, 0.91574611, 0.91387381,\n",
       "       0.91162704, 0.9170412 , 0.92059925, 0.90898876, 0.91273408])"
      ]
     },
     "execution_count": 40,
     "metadata": {},
     "output_type": "execute_result"
    }
   ],
   "source": [
    "#simple implementation with crossvalidation\n",
    "\n",
    "from sklearn.model_selection import cross_val_score\n",
    "from sklearn.tree import DecisionTreeClassifier\n",
    "clf1 = DecisionTreeClassifier(random_state=0)\n",
    "\n",
    "cross_val_score(clf1, X_train_set1, y_train, cv=10)"
   ]
  },
  {
   "cell_type": "code",
   "execution_count": 44,
   "id": "cfcd887b",
   "metadata": {},
   "outputs": [
    {
     "name": "stdout",
     "output_type": "stream",
     "text": [
      "Training set evaluation:\n",
      "Accuracy: 1.0000\n",
      "Precision: 1.0000\n",
      "Recall: 1.0000\n",
      "F1 Score: 1.0000\n",
      "\n",
      "Test set evaluation:\n",
      "Accuracy: 0.7452\n",
      "Precision: 0.7628\n",
      "Recall: 0.7452\n",
      "F1 Score: 0.7535\n"
     ]
    }
   ],
   "source": [
    "from sklearn.tree import DecisionTreeClassifier\n",
    "from sklearn.metrics import accuracy_score, precision_score, recall_score, f1_score, confusion_matrix, classification_report\n",
    "\n",
    "#initilize and train\n",
    "clf1= DecisionTreeClassifier()\n",
    "clf1.fit(X_train_set1, y_train)\n",
    "\n",
    "\n",
    "#evaluation\n",
    "#train accurarcy, recoal, precision, f1score\n",
    "y_train_pred = clf1.predict(X_train_set1)\n",
    "\n",
    "train_accuracy   = accuracy_score(y_train, y_train_pred)\n",
    "train_precision  = precision_score(y_train, y_train_pred, average='weighted')\n",
    "train_recall     = recall_score(y_train, y_train_pred, average='weighted')\n",
    "train_f1         = f1_score(y_train, y_train_pred, average='weighted')\n",
    "\n",
    "#test accurarcy, recoal, precision, f1score\n",
    "y_test_pred = clf1.predict(X_test_set1)\n",
    "\n",
    "test_accuracy   = accuracy_score(y_test, y_test_pred)\n",
    "test_precision  = precision_score(y_test, y_test_pred, average='weighted')\n",
    "test_recall     = recall_score(y_test, y_test_pred, average='weighted')\n",
    "test_f1         = f1_score(y_test, y_test_pred, average='weighted')\n",
    "\n",
    "\n",
    "print(\"Training set evaluation:\")\n",
    "print(f\"Accuracy: {train_accuracy:.4f}\")\n",
    "print(f\"Precision: {train_precision:.4f}\")\n",
    "print(f\"Recall: {train_recall:.4f}\")\n",
    "print(f\"F1 Score: {train_f1:.4f}\")\n",
    "\n",
    "print(\"\\nTest set evaluation:\")\n",
    "print(f\"Accuracy: {test_accuracy:.4f}\")\n",
    "print(f\"Precision: {test_precision:.4f}\")\n",
    "print(f\"Recall: {test_recall:.4f}\")\n",
    "print(f\"F1 Score: {test_f1:.4f}\")"
   ]
  },
  {
   "cell_type": "code",
   "execution_count": 49,
   "id": "e954b084",
   "metadata": {},
   "outputs": [
    {
     "name": "stdout",
     "output_type": "stream",
     "text": [
      "\n",
      "Classification Report for Test Set:\n",
      "              precision    recall  f1-score   support\n",
      "\n",
      "           0       0.25      0.29      0.27      1393\n",
      "           1       0.86      0.83      0.85      7347\n",
      "\n",
      "    accuracy                           0.75      8740\n",
      "   macro avg       0.55      0.56      0.56      8740\n",
      "weighted avg       0.76      0.75      0.75      8740\n",
      "\n",
      "================================================================================\n",
      "Confusion Matrix for Test Set:\n",
      "[[ 405  988]\n",
      " [1239 6108]]\n"
     ]
    }
   ],
   "source": [
    "# Detailed classification report\n",
    "print(\"\\nClassification Report for Test Set:\")\n",
    "print(classification_report(y_test, y_test_pred))\n",
    "print(\"==\"*40)\n",
    "\n",
    "# Confusion matrix for the test set\n",
    "conf_matrix = confusion_matrix(y_test, y_test_pred)\n",
    "print(\"Confusion Matrix for Test Set:\")\n",
    "print(conf_matrix)"
   ]
  },
  {
   "cell_type": "markdown",
   "id": "02ffca70",
   "metadata": {},
   "source": [
    "### Set 2: categorical, numerical features + project_title(TFIDF)+ preprocessed_eassay (TFIDF)"
   ]
  },
  {
   "cell_type": "code",
   "execution_count": 50,
   "id": "b7062033",
   "metadata": {},
   "outputs": [
    {
     "name": "stdout",
     "output_type": "stream",
     "text": [
      "Train Set-1 shapes: (53406, 7704) (53406,)\n",
      "Test Set-1 shapes: (8740, 7704) (8740,)\n",
      "Cross Val Set-1 shapes: (3496, 7704) (3496,)\n"
     ]
    }
   ],
   "source": [
    "#prepare Set 2: categorical, numerical features + project_title(TFIDF)+ preprocessed_eassay (TFIDF)\n",
    "from scipy.sparse import hstack, csr_matrix\n",
    "\n",
    "#stacking all \n",
    "X_train_set2= hstack([X_train_nc_scaled_csr, X_train_catcols_ohe_csr,train_ct_tfidf, train_ess_tfidf ])\n",
    "X_test_set2 = hstack([X_test_nc_scaled_csr, X_test_catcols_ohe_csr, test_ct_tfidf, test_ess_tfidf])\n",
    "X_cv_set2   = hstack([X_cv_nc_scaled_csr, X_cv_catcols_ohe_csr,  cv_ct_tfidf, cv_ess_tfidf])\n",
    "\n",
    "\n",
    "print(\"Train Set-1 shapes:\",X_train_set2.shape, y_train.shape)\n",
    "print(\"Test Set-1 shapes:\", X_test_set2.shape, y_test.shape)\n",
    "print(\"Cross Val Set-1 shapes:\",X_cv_set2.shape, y_cv.shape)"
   ]
  },
  {
   "cell_type": "code",
   "execution_count": 51,
   "id": "2b20d68e",
   "metadata": {},
   "outputs": [
    {
     "name": "stdout",
     "output_type": "stream",
     "text": [
      "Training set evaluation:\n",
      "Accuracy: 1.0000\n",
      "Precision: 1.0000\n",
      "Recall: 1.0000\n",
      "F1 Score: 1.0000\n",
      "\n",
      "Test set evaluation:\n",
      "Accuracy: 0.7446\n",
      "Precision: 0.7614\n",
      "Recall: 0.7446\n",
      "F1 Score: 0.7526\n",
      "================================================================================\n",
      "Classification Report for Test Set:\n",
      "              precision    recall  f1-score   support\n",
      "\n",
      "           0       0.24      0.28      0.26      1393\n",
      "           1       0.86      0.83      0.85      7347\n",
      "\n",
      "    accuracy                           0.74      8740\n",
      "   macro avg       0.55      0.56      0.55      8740\n",
      "weighted avg       0.76      0.74      0.75      8740\n",
      "\n",
      "================================================================================\n",
      "Confusion Matrix for Test Set:\n",
      "[[ 396  997]\n",
      " [1235 6112]]\n"
     ]
    }
   ],
   "source": [
    "from sklearn.tree import DecisionTreeClassifier\n",
    "from sklearn.metrics import accuracy_score, precision_score, recall_score, f1_score, confusion_matrix, classification_report\n",
    "\n",
    "#initilize and train\n",
    "clf1= DecisionTreeClassifier()\n",
    "clf1.fit(X_train_set2, y_train)\n",
    "\n",
    "\n",
    "#evaluation\n",
    "#train accurarcy, recoal, precision, f1score\n",
    "y_train_pred = clf1.predict(X_train_set2)\n",
    "\n",
    "train_accuracy   = accuracy_score(y_train, y_train_pred)\n",
    "train_precision  = precision_score(y_train, y_train_pred, average='weighted')\n",
    "train_recall     = recall_score(y_train, y_train_pred, average='weighted')\n",
    "train_f1         = f1_score(y_train, y_train_pred, average='weighted')\n",
    "\n",
    "#test accurarcy, recoal, precision, f1score\n",
    "y_test_pred = clf1.predict(X_test_set2)\n",
    "\n",
    "test_accuracy   = accuracy_score(y_test, y_test_pred)\n",
    "test_precision  = precision_score(y_test, y_test_pred, average='weighted')\n",
    "test_recall     = recall_score(y_test, y_test_pred, average='weighted')\n",
    "test_f1         = f1_score(y_test, y_test_pred, average='weighted')\n",
    "\n",
    "\n",
    "print(\"Training set evaluation:\")\n",
    "print(f\"Accuracy: {train_accuracy:.4f}\")\n",
    "print(f\"Precision: {train_precision:.4f}\")\n",
    "print(f\"Recall: {train_recall:.4f}\")\n",
    "print(f\"F1 Score: {train_f1:.4f}\")\n",
    "\n",
    "print(\"\\nTest set evaluation:\")\n",
    "print(f\"Accuracy: {test_accuracy:.4f}\")\n",
    "print(f\"Precision: {test_precision:.4f}\")\n",
    "print(f\"Recall: {test_recall:.4f}\")\n",
    "print(f\"F1 Score: {test_f1:.4f}\")\n",
    "\n",
    "\n",
    "# Detailed classification report\n",
    "print(\"==\"*40)\n",
    "print(\"Classification Report for Test Set:\")\n",
    "print(classification_report(y_test, y_test_pred))\n",
    "print(\"==\"*40)\n",
    "\n",
    "# Confusion matrix for the test set\n",
    "conf_matrix = confusion_matrix(y_test, y_test_pred)\n",
    "print(\"Confusion Matrix for Test Set:\")\n",
    "print(conf_matrix)"
   ]
  },
  {
   "cell_type": "markdown",
   "id": "008f5919",
   "metadata": {},
   "source": [
    "### Set 3: categorical, numerical features + project_title(AVG W2V)+ preprocessed_eassay (AVG W2V) "
   ]
  },
  {
   "cell_type": "code",
   "execution_count": 52,
   "id": "ef238877",
   "metadata": {},
   "outputs": [
    {
     "name": "stdout",
     "output_type": "stream",
     "text": [
      "Train Set-1 shapes: (53406, 669) (53406,)\n",
      "Test Set-1 shapes: (8740, 669) (8740,)\n",
      "Cross Val Set-1 shapes: (3496, 669) (3496,)\n"
     ]
    }
   ],
   "source": [
    "#prepare Set 3: categorical, numerical features + project_title(AVG W2V)+ preprocessed_eassay (AVG W2V)¶\n",
    "from scipy.sparse import hstack, csr_matrix\n",
    "\n",
    "#stacking all \n",
    "X_train_set3= hstack([X_train_nc_scaled_csr, X_train_catcols_ohe_csr, csr_avg_w2v_titles_train, csr_avg_w2v_essays_train ])\n",
    "X_test_set3 = hstack([X_test_nc_scaled_csr, X_test_catcols_ohe_csr, csr_avg_w2v_titles_test, csr_avg_w2v_essays_test])\n",
    "X_cv_set3   = hstack([X_cv_nc_scaled_csr, X_cv_catcols_ohe_csr, csr_avg_w2v_titles_cv, csr_avg_w2v_essays_cv])\n",
    "\n",
    "\n",
    "print(\"Train Set-1 shapes:\",X_train_set3.shape, y_train.shape)\n",
    "print(\"Test Set-1 shapes:\", X_test_set3.shape, y_test.shape)\n",
    "print(\"Cross Val Set-1 shapes:\",X_cv_set3.shape, y_cv.shape)"
   ]
  },
  {
   "cell_type": "code",
   "execution_count": 53,
   "id": "41d708c3",
   "metadata": {},
   "outputs": [
    {
     "name": "stdout",
     "output_type": "stream",
     "text": [
      "Training set evaluation:\n",
      "Accuracy: 1.0000\n",
      "Precision: 1.0000\n",
      "Recall: 1.0000\n",
      "F1 Score: 1.0000\n",
      "\n",
      "Test set evaluation:\n",
      "Accuracy: 0.7555\n",
      "Precision: 0.7484\n",
      "Recall: 0.7555\n",
      "F1 Score: 0.7519\n",
      "\n",
      "Classification Report for Test Set:\n",
      "              precision    recall  f1-score   support\n",
      "\n",
      "           0       0.21      0.20      0.21      1393\n",
      "           1       0.85      0.86      0.86      7347\n",
      "\n",
      "    accuracy                           0.76      8740\n",
      "   macro avg       0.53      0.53      0.53      8740\n",
      "weighted avg       0.75      0.76      0.75      8740\n",
      "\n",
      "================================================================================\n",
      "Confusion Matrix for Test Set:\n",
      "[[ 276 1117]\n",
      " [1020 6327]]\n"
     ]
    }
   ],
   "source": [
    "#Train and evaluate model on set3\n",
    "\n",
    "from sklearn.tree import DecisionTreeClassifier\n",
    "from sklearn.metrics import accuracy_score, precision_score, recall_score, f1_score, confusion_matrix, classification_report\n",
    "\n",
    "#initilize and train\n",
    "clf1= DecisionTreeClassifier()\n",
    "clf1.fit(X_train_set3, y_train)\n",
    "\n",
    "\n",
    "#evaluation\n",
    "#train accurarcy, recoal, precision, f1score\n",
    "y_train_pred = clf1.predict(X_train_set3)\n",
    "\n",
    "train_accuracy   = accuracy_score(y_train, y_train_pred)\n",
    "train_precision  = precision_score(y_train, y_train_pred, average='weighted')\n",
    "train_recall     = recall_score(y_train, y_train_pred, average='weighted')\n",
    "train_f1         = f1_score(y_train, y_train_pred, average='weighted')\n",
    "\n",
    "#test accurarcy, recoal, precision, f1score\n",
    "y_test_pred = clf1.predict(X_test_set3)\n",
    "\n",
    "test_accuracy   = accuracy_score(y_test, y_test_pred)\n",
    "test_precision  = precision_score(y_test, y_test_pred, average='weighted')\n",
    "test_recall     = recall_score(y_test, y_test_pred, average='weighted')\n",
    "test_f1         = f1_score(y_test, y_test_pred, average='weighted')\n",
    "\n",
    "\n",
    "print(\"Training set evaluation:\")\n",
    "print(f\"Accuracy: {train_accuracy:.4f}\")\n",
    "print(f\"Precision: {train_precision:.4f}\")\n",
    "print(f\"Recall: {train_recall:.4f}\")\n",
    "print(f\"F1 Score: {train_f1:.4f}\")\n",
    "\n",
    "print(\"\\nTest set evaluation:\")\n",
    "print(f\"Accuracy: {test_accuracy:.4f}\")\n",
    "print(f\"Precision: {test_precision:.4f}\")\n",
    "print(f\"Recall: {test_recall:.4f}\")\n",
    "print(f\"F1 Score: {test_f1:.4f}\")\n",
    "\n",
    "# Detailed classification report\n",
    "print(\"\\nClassification Report for Test Set:\")\n",
    "print(classification_report(y_test, y_test_pred))\n",
    "print(\"==\"*40)\n",
    "\n",
    "# Confusion matrix for the test set\n",
    "conf_matrix = confusion_matrix(y_test, y_test_pred)\n",
    "print(\"Confusion Matrix for Test Set:\")\n",
    "print(conf_matrix)"
   ]
  },
  {
   "cell_type": "markdown",
   "id": "cdc09acd",
   "metadata": {},
   "source": [
    "### Set 4: categorical, numerical features + project_title(TFIDF W2V)+ preprocessed_eassay (TFIDF W2V)"
   ]
  },
  {
   "cell_type": "code",
   "execution_count": 54,
   "id": "5974c45a",
   "metadata": {},
   "outputs": [
    {
     "name": "stdout",
     "output_type": "stream",
     "text": [
      "Train Set-1 shapes: (53406, 669) (53406,)\n",
      "Test Set-1 shapes: (8740, 669) (8740,)\n",
      "Cross Val Set-1 shapes: (3496, 669) (3496,)\n"
     ]
    }
   ],
   "source": [
    "#prepare set4 categorical, numerical features + project_title(TFIDF W2V)+ preprocessed_eassay (TFIDF W2V)¶\n",
    "from scipy.sparse import hstack, csr_matrix\n",
    "\n",
    "#stacking all \n",
    "X_train_set4= hstack([X_train_nc_scaled_csr, X_train_catcols_ohe_csr, csr_tfidf_w2v_titles_train, csr_tfidf_w2v_essays_train])\n",
    "X_test_set4 = hstack([X_test_nc_scaled_csr, X_test_catcols_ohe_csr,  csr_tfidf_w2v_titles_test, csr_tfidf_w2v_essays_test])\n",
    "X_cv_set4   = hstack([X_cv_nc_scaled_csr, X_cv_catcols_ohe_csr,  csr_tfidf_w2v_titles_cv, csr_tfidf_w2v_essays_cv])\n",
    "\n",
    "\n",
    "print(\"Train Set-1 shapes:\",X_train_set4.shape, y_train.shape)\n",
    "print(\"Test Set-1 shapes:\", X_test_set4.shape, y_test.shape)\n",
    "print(\"Cross Val Set-1 shapes:\",X_cv_set4.shape, y_cv.shape)"
   ]
  },
  {
   "cell_type": "code",
   "execution_count": 55,
   "id": "3b9f9c5b",
   "metadata": {},
   "outputs": [
    {
     "name": "stdout",
     "output_type": "stream",
     "text": [
      "Training set evaluation:\n",
      "Accuracy: 1.0000\n",
      "Precision: 1.0000\n",
      "Recall: 1.0000\n",
      "F1 Score: 1.0000\n",
      "\n",
      "Test set evaluation:\n",
      "Accuracy: 0.7569\n",
      "Precision: 0.7547\n",
      "Recall: 0.7569\n",
      "F1 Score: 0.7558\n",
      "\n",
      "Classification Report for Test Set:\n",
      "              precision    recall  f1-score   support\n",
      "\n",
      "           0       0.23      0.23      0.23      1393\n",
      "           1       0.85      0.86      0.86      7347\n",
      "\n",
      "    accuracy                           0.76      8740\n",
      "   macro avg       0.54      0.54      0.54      8740\n",
      "weighted avg       0.75      0.76      0.76      8740\n",
      "\n",
      "================================================================================\n",
      "Confusion Matrix for Test Set:\n",
      "[[ 315 1078]\n",
      " [1047 6300]]\n"
     ]
    }
   ],
   "source": [
    "#Train and evaluate model on set4\n",
    "\n",
    "from sklearn.tree import DecisionTreeClassifier\n",
    "from sklearn.metrics import accuracy_score, precision_score, recall_score, f1_score, confusion_matrix, classification_report\n",
    "\n",
    "#initilize and train\n",
    "clf1= DecisionTreeClassifier()\n",
    "clf1.fit(X_train_set4, y_train)\n",
    "\n",
    "\n",
    "#evaluation\n",
    "#train accurarcy, recoal, precision, f1score\n",
    "y_train_pred = clf1.predict(X_train_set4)\n",
    "\n",
    "train_accuracy   = accuracy_score(y_train, y_train_pred)\n",
    "train_precision  = precision_score(y_train, y_train_pred, average='weighted')\n",
    "train_recall     = recall_score(y_train, y_train_pred, average='weighted')\n",
    "train_f1         = f1_score(y_train, y_train_pred, average='weighted')\n",
    "\n",
    "#test accurarcy, recoal, precision, f1score\n",
    "y_test_pred = clf1.predict(X_test_set4)\n",
    "\n",
    "test_accuracy   = accuracy_score(y_test, y_test_pred)\n",
    "test_precision  = precision_score(y_test, y_test_pred, average='weighted')\n",
    "test_recall     = recall_score(y_test, y_test_pred, average='weighted')\n",
    "test_f1         = f1_score(y_test, y_test_pred, average='weighted')\n",
    "\n",
    "\n",
    "print(\"Training set evaluation:\")\n",
    "print(f\"Accuracy: {train_accuracy:.4f}\")\n",
    "print(f\"Precision: {train_precision:.4f}\")\n",
    "print(f\"Recall: {train_recall:.4f}\")\n",
    "print(f\"F1 Score: {train_f1:.4f}\")\n",
    "\n",
    "print(\"\\nTest set evaluation:\")\n",
    "print(f\"Accuracy: {test_accuracy:.4f}\")\n",
    "print(f\"Precision: {test_precision:.4f}\")\n",
    "print(f\"Recall: {test_recall:.4f}\")\n",
    "print(f\"F1 Score: {test_f1:.4f}\")\n",
    "\n",
    "# Detailed classification report\n",
    "print(\"\\nClassification Report for Test Set:\")\n",
    "print(classification_report(y_test, y_test_pred))\n",
    "print(\"==\"*40)\n",
    "\n",
    "# Confusion matrix for the test set\n",
    "conf_matrix = confusion_matrix(y_test, y_test_pred)\n",
    "print(\"Confusion Matrix for Test Set:\")\n",
    "print(conf_matrix)"
   ]
  },
  {
   "cell_type": "markdown",
   "id": "f4eebd5c",
   "metadata": {},
   "source": [
    "<h3 style =\"color:red\"> So far on set 2 we have got best results </h3>\n",
    "<h3 style =\"color:red\"> We will use set 2 for hyper parameter tuning </h3>"
   ]
  },
  {
   "cell_type": "markdown",
   "id": "eb1202fe",
   "metadata": {},
   "source": [
    "# [5] Hyperparameter tuninig (GridsearchCV)"
   ]
  },
  {
   "cell_type": "markdown",
   "id": "f832d6d9",
   "metadata": {},
   "source": [
    "<h4> [2] Hyper paramter tuning (best `depth` in range [1, 5, 10, 50, 100, 500, 100], and the best `min_samples_split` in range [5, 10, 100, 500])</h4>\n",
    "\n",
    "- Find the best hyper parameter which will give the maximum AUC value\n",
    "- Find the best hyper paramter using k-fold cross validation or simple cross validation data\n",
    "- Use gridsearch cv or randomsearch cv or you can also write your own for loops to do this task of hyperparameter tuning\n"
   ]
  },
  {
   "cell_type": "code",
   "execution_count": 57,
   "id": "444d0d89",
   "metadata": {},
   "outputs": [
    {
     "name": "stderr",
     "output_type": "stream",
     "text": [
      "C:\\Users\\Faizan_Shakeel\\anaconda3\\lib\\site-packages\\sklearn\\metrics\\_scorer.py:610: FutureWarning: The `needs_threshold` and `needs_proba` parameter are deprecated in version 1.4 and will be removed in 1.6. You can either let `response_method` be `None` or set it to `predict` to preserve the same behaviour.\n",
      "  warnings.warn(\n"
     ]
    },
    {
     "data": {
      "text/html": [
       "<style>#sk-container-id-1 {\n",
       "  /* Definition of color scheme common for light and dark mode */\n",
       "  --sklearn-color-text: black;\n",
       "  --sklearn-color-line: gray;\n",
       "  /* Definition of color scheme for unfitted estimators */\n",
       "  --sklearn-color-unfitted-level-0: #fff5e6;\n",
       "  --sklearn-color-unfitted-level-1: #f6e4d2;\n",
       "  --sklearn-color-unfitted-level-2: #ffe0b3;\n",
       "  --sklearn-color-unfitted-level-3: chocolate;\n",
       "  /* Definition of color scheme for fitted estimators */\n",
       "  --sklearn-color-fitted-level-0: #f0f8ff;\n",
       "  --sklearn-color-fitted-level-1: #d4ebff;\n",
       "  --sklearn-color-fitted-level-2: #b3dbfd;\n",
       "  --sklearn-color-fitted-level-3: cornflowerblue;\n",
       "\n",
       "  /* Specific color for light theme */\n",
       "  --sklearn-color-text-on-default-background: var(--sg-text-color, var(--theme-code-foreground, var(--jp-content-font-color1, black)));\n",
       "  --sklearn-color-background: var(--sg-background-color, var(--theme-background, var(--jp-layout-color0, white)));\n",
       "  --sklearn-color-border-box: var(--sg-text-color, var(--theme-code-foreground, var(--jp-content-font-color1, black)));\n",
       "  --sklearn-color-icon: #696969;\n",
       "\n",
       "  @media (prefers-color-scheme: dark) {\n",
       "    /* Redefinition of color scheme for dark theme */\n",
       "    --sklearn-color-text-on-default-background: var(--sg-text-color, var(--theme-code-foreground, var(--jp-content-font-color1, white)));\n",
       "    --sklearn-color-background: var(--sg-background-color, var(--theme-background, var(--jp-layout-color0, #111)));\n",
       "    --sklearn-color-border-box: var(--sg-text-color, var(--theme-code-foreground, var(--jp-content-font-color1, white)));\n",
       "    --sklearn-color-icon: #878787;\n",
       "  }\n",
       "}\n",
       "\n",
       "#sk-container-id-1 {\n",
       "  color: var(--sklearn-color-text);\n",
       "}\n",
       "\n",
       "#sk-container-id-1 pre {\n",
       "  padding: 0;\n",
       "}\n",
       "\n",
       "#sk-container-id-1 input.sk-hidden--visually {\n",
       "  border: 0;\n",
       "  clip: rect(1px 1px 1px 1px);\n",
       "  clip: rect(1px, 1px, 1px, 1px);\n",
       "  height: 1px;\n",
       "  margin: -1px;\n",
       "  overflow: hidden;\n",
       "  padding: 0;\n",
       "  position: absolute;\n",
       "  width: 1px;\n",
       "}\n",
       "\n",
       "#sk-container-id-1 div.sk-dashed-wrapped {\n",
       "  border: 1px dashed var(--sklearn-color-line);\n",
       "  margin: 0 0.4em 0.5em 0.4em;\n",
       "  box-sizing: border-box;\n",
       "  padding-bottom: 0.4em;\n",
       "  background-color: var(--sklearn-color-background);\n",
       "}\n",
       "\n",
       "#sk-container-id-1 div.sk-container {\n",
       "  /* jupyter's `normalize.less` sets `[hidden] { display: none; }`\n",
       "     but bootstrap.min.css set `[hidden] { display: none !important; }`\n",
       "     so we also need the `!important` here to be able to override the\n",
       "     default hidden behavior on the sphinx rendered scikit-learn.org.\n",
       "     See: https://github.com/scikit-learn/scikit-learn/issues/21755 */\n",
       "  display: inline-block !important;\n",
       "  position: relative;\n",
       "}\n",
       "\n",
       "#sk-container-id-1 div.sk-text-repr-fallback {\n",
       "  display: none;\n",
       "}\n",
       "\n",
       "div.sk-parallel-item,\n",
       "div.sk-serial,\n",
       "div.sk-item {\n",
       "  /* draw centered vertical line to link estimators */\n",
       "  background-image: linear-gradient(var(--sklearn-color-text-on-default-background), var(--sklearn-color-text-on-default-background));\n",
       "  background-size: 2px 100%;\n",
       "  background-repeat: no-repeat;\n",
       "  background-position: center center;\n",
       "}\n",
       "\n",
       "/* Parallel-specific style estimator block */\n",
       "\n",
       "#sk-container-id-1 div.sk-parallel-item::after {\n",
       "  content: \"\";\n",
       "  width: 100%;\n",
       "  border-bottom: 2px solid var(--sklearn-color-text-on-default-background);\n",
       "  flex-grow: 1;\n",
       "}\n",
       "\n",
       "#sk-container-id-1 div.sk-parallel {\n",
       "  display: flex;\n",
       "  align-items: stretch;\n",
       "  justify-content: center;\n",
       "  background-color: var(--sklearn-color-background);\n",
       "  position: relative;\n",
       "}\n",
       "\n",
       "#sk-container-id-1 div.sk-parallel-item {\n",
       "  display: flex;\n",
       "  flex-direction: column;\n",
       "}\n",
       "\n",
       "#sk-container-id-1 div.sk-parallel-item:first-child::after {\n",
       "  align-self: flex-end;\n",
       "  width: 50%;\n",
       "}\n",
       "\n",
       "#sk-container-id-1 div.sk-parallel-item:last-child::after {\n",
       "  align-self: flex-start;\n",
       "  width: 50%;\n",
       "}\n",
       "\n",
       "#sk-container-id-1 div.sk-parallel-item:only-child::after {\n",
       "  width: 0;\n",
       "}\n",
       "\n",
       "/* Serial-specific style estimator block */\n",
       "\n",
       "#sk-container-id-1 div.sk-serial {\n",
       "  display: flex;\n",
       "  flex-direction: column;\n",
       "  align-items: center;\n",
       "  background-color: var(--sklearn-color-background);\n",
       "  padding-right: 1em;\n",
       "  padding-left: 1em;\n",
       "}\n",
       "\n",
       "\n",
       "/* Toggleable style: style used for estimator/Pipeline/ColumnTransformer box that is\n",
       "clickable and can be expanded/collapsed.\n",
       "- Pipeline and ColumnTransformer use this feature and define the default style\n",
       "- Estimators will overwrite some part of the style using the `sk-estimator` class\n",
       "*/\n",
       "\n",
       "/* Pipeline and ColumnTransformer style (default) */\n",
       "\n",
       "#sk-container-id-1 div.sk-toggleable {\n",
       "  /* Default theme specific background. It is overwritten whether we have a\n",
       "  specific estimator or a Pipeline/ColumnTransformer */\n",
       "  background-color: var(--sklearn-color-background);\n",
       "}\n",
       "\n",
       "/* Toggleable label */\n",
       "#sk-container-id-1 label.sk-toggleable__label {\n",
       "  cursor: pointer;\n",
       "  display: block;\n",
       "  width: 100%;\n",
       "  margin-bottom: 0;\n",
       "  padding: 0.5em;\n",
       "  box-sizing: border-box;\n",
       "  text-align: center;\n",
       "}\n",
       "\n",
       "#sk-container-id-1 label.sk-toggleable__label-arrow:before {\n",
       "  /* Arrow on the left of the label */\n",
       "  content: \"▸\";\n",
       "  float: left;\n",
       "  margin-right: 0.25em;\n",
       "  color: var(--sklearn-color-icon);\n",
       "}\n",
       "\n",
       "#sk-container-id-1 label.sk-toggleable__label-arrow:hover:before {\n",
       "  color: var(--sklearn-color-text);\n",
       "}\n",
       "\n",
       "/* Toggleable content - dropdown */\n",
       "\n",
       "#sk-container-id-1 div.sk-toggleable__content {\n",
       "  max-height: 0;\n",
       "  max-width: 0;\n",
       "  overflow: hidden;\n",
       "  text-align: left;\n",
       "  /* unfitted */\n",
       "  background-color: var(--sklearn-color-unfitted-level-0);\n",
       "}\n",
       "\n",
       "#sk-container-id-1 div.sk-toggleable__content.fitted {\n",
       "  /* fitted */\n",
       "  background-color: var(--sklearn-color-fitted-level-0);\n",
       "}\n",
       "\n",
       "#sk-container-id-1 div.sk-toggleable__content pre {\n",
       "  margin: 0.2em;\n",
       "  border-radius: 0.25em;\n",
       "  color: var(--sklearn-color-text);\n",
       "  /* unfitted */\n",
       "  background-color: var(--sklearn-color-unfitted-level-0);\n",
       "}\n",
       "\n",
       "#sk-container-id-1 div.sk-toggleable__content.fitted pre {\n",
       "  /* unfitted */\n",
       "  background-color: var(--sklearn-color-fitted-level-0);\n",
       "}\n",
       "\n",
       "#sk-container-id-1 input.sk-toggleable__control:checked~div.sk-toggleable__content {\n",
       "  /* Expand drop-down */\n",
       "  max-height: 200px;\n",
       "  max-width: 100%;\n",
       "  overflow: auto;\n",
       "}\n",
       "\n",
       "#sk-container-id-1 input.sk-toggleable__control:checked~label.sk-toggleable__label-arrow:before {\n",
       "  content: \"▾\";\n",
       "}\n",
       "\n",
       "/* Pipeline/ColumnTransformer-specific style */\n",
       "\n",
       "#sk-container-id-1 div.sk-label input.sk-toggleable__control:checked~label.sk-toggleable__label {\n",
       "  color: var(--sklearn-color-text);\n",
       "  background-color: var(--sklearn-color-unfitted-level-2);\n",
       "}\n",
       "\n",
       "#sk-container-id-1 div.sk-label.fitted input.sk-toggleable__control:checked~label.sk-toggleable__label {\n",
       "  background-color: var(--sklearn-color-fitted-level-2);\n",
       "}\n",
       "\n",
       "/* Estimator-specific style */\n",
       "\n",
       "/* Colorize estimator box */\n",
       "#sk-container-id-1 div.sk-estimator input.sk-toggleable__control:checked~label.sk-toggleable__label {\n",
       "  /* unfitted */\n",
       "  background-color: var(--sklearn-color-unfitted-level-2);\n",
       "}\n",
       "\n",
       "#sk-container-id-1 div.sk-estimator.fitted input.sk-toggleable__control:checked~label.sk-toggleable__label {\n",
       "  /* fitted */\n",
       "  background-color: var(--sklearn-color-fitted-level-2);\n",
       "}\n",
       "\n",
       "#sk-container-id-1 div.sk-label label.sk-toggleable__label,\n",
       "#sk-container-id-1 div.sk-label label {\n",
       "  /* The background is the default theme color */\n",
       "  color: var(--sklearn-color-text-on-default-background);\n",
       "}\n",
       "\n",
       "/* On hover, darken the color of the background */\n",
       "#sk-container-id-1 div.sk-label:hover label.sk-toggleable__label {\n",
       "  color: var(--sklearn-color-text);\n",
       "  background-color: var(--sklearn-color-unfitted-level-2);\n",
       "}\n",
       "\n",
       "/* Label box, darken color on hover, fitted */\n",
       "#sk-container-id-1 div.sk-label.fitted:hover label.sk-toggleable__label.fitted {\n",
       "  color: var(--sklearn-color-text);\n",
       "  background-color: var(--sklearn-color-fitted-level-2);\n",
       "}\n",
       "\n",
       "/* Estimator label */\n",
       "\n",
       "#sk-container-id-1 div.sk-label label {\n",
       "  font-family: monospace;\n",
       "  font-weight: bold;\n",
       "  display: inline-block;\n",
       "  line-height: 1.2em;\n",
       "}\n",
       "\n",
       "#sk-container-id-1 div.sk-label-container {\n",
       "  text-align: center;\n",
       "}\n",
       "\n",
       "/* Estimator-specific */\n",
       "#sk-container-id-1 div.sk-estimator {\n",
       "  font-family: monospace;\n",
       "  border: 1px dotted var(--sklearn-color-border-box);\n",
       "  border-radius: 0.25em;\n",
       "  box-sizing: border-box;\n",
       "  margin-bottom: 0.5em;\n",
       "  /* unfitted */\n",
       "  background-color: var(--sklearn-color-unfitted-level-0);\n",
       "}\n",
       "\n",
       "#sk-container-id-1 div.sk-estimator.fitted {\n",
       "  /* fitted */\n",
       "  background-color: var(--sklearn-color-fitted-level-0);\n",
       "}\n",
       "\n",
       "/* on hover */\n",
       "#sk-container-id-1 div.sk-estimator:hover {\n",
       "  /* unfitted */\n",
       "  background-color: var(--sklearn-color-unfitted-level-2);\n",
       "}\n",
       "\n",
       "#sk-container-id-1 div.sk-estimator.fitted:hover {\n",
       "  /* fitted */\n",
       "  background-color: var(--sklearn-color-fitted-level-2);\n",
       "}\n",
       "\n",
       "/* Specification for estimator info (e.g. \"i\" and \"?\") */\n",
       "\n",
       "/* Common style for \"i\" and \"?\" */\n",
       "\n",
       ".sk-estimator-doc-link,\n",
       "a:link.sk-estimator-doc-link,\n",
       "a:visited.sk-estimator-doc-link {\n",
       "  float: right;\n",
       "  font-size: smaller;\n",
       "  line-height: 1em;\n",
       "  font-family: monospace;\n",
       "  background-color: var(--sklearn-color-background);\n",
       "  border-radius: 1em;\n",
       "  height: 1em;\n",
       "  width: 1em;\n",
       "  text-decoration: none !important;\n",
       "  margin-left: 1ex;\n",
       "  /* unfitted */\n",
       "  border: var(--sklearn-color-unfitted-level-1) 1pt solid;\n",
       "  color: var(--sklearn-color-unfitted-level-1);\n",
       "}\n",
       "\n",
       ".sk-estimator-doc-link.fitted,\n",
       "a:link.sk-estimator-doc-link.fitted,\n",
       "a:visited.sk-estimator-doc-link.fitted {\n",
       "  /* fitted */\n",
       "  border: var(--sklearn-color-fitted-level-1) 1pt solid;\n",
       "  color: var(--sklearn-color-fitted-level-1);\n",
       "}\n",
       "\n",
       "/* On hover */\n",
       "div.sk-estimator:hover .sk-estimator-doc-link:hover,\n",
       ".sk-estimator-doc-link:hover,\n",
       "div.sk-label-container:hover .sk-estimator-doc-link:hover,\n",
       ".sk-estimator-doc-link:hover {\n",
       "  /* unfitted */\n",
       "  background-color: var(--sklearn-color-unfitted-level-3);\n",
       "  color: var(--sklearn-color-background);\n",
       "  text-decoration: none;\n",
       "}\n",
       "\n",
       "div.sk-estimator.fitted:hover .sk-estimator-doc-link.fitted:hover,\n",
       ".sk-estimator-doc-link.fitted:hover,\n",
       "div.sk-label-container:hover .sk-estimator-doc-link.fitted:hover,\n",
       ".sk-estimator-doc-link.fitted:hover {\n",
       "  /* fitted */\n",
       "  background-color: var(--sklearn-color-fitted-level-3);\n",
       "  color: var(--sklearn-color-background);\n",
       "  text-decoration: none;\n",
       "}\n",
       "\n",
       "/* Span, style for the box shown on hovering the info icon */\n",
       ".sk-estimator-doc-link span {\n",
       "  display: none;\n",
       "  z-index: 9999;\n",
       "  position: relative;\n",
       "  font-weight: normal;\n",
       "  right: .2ex;\n",
       "  padding: .5ex;\n",
       "  margin: .5ex;\n",
       "  width: min-content;\n",
       "  min-width: 20ex;\n",
       "  max-width: 50ex;\n",
       "  color: var(--sklearn-color-text);\n",
       "  box-shadow: 2pt 2pt 4pt #999;\n",
       "  /* unfitted */\n",
       "  background: var(--sklearn-color-unfitted-level-0);\n",
       "  border: .5pt solid var(--sklearn-color-unfitted-level-3);\n",
       "}\n",
       "\n",
       ".sk-estimator-doc-link.fitted span {\n",
       "  /* fitted */\n",
       "  background: var(--sklearn-color-fitted-level-0);\n",
       "  border: var(--sklearn-color-fitted-level-3);\n",
       "}\n",
       "\n",
       ".sk-estimator-doc-link:hover span {\n",
       "  display: block;\n",
       "}\n",
       "\n",
       "/* \"?\"-specific style due to the `<a>` HTML tag */\n",
       "\n",
       "#sk-container-id-1 a.estimator_doc_link {\n",
       "  float: right;\n",
       "  font-size: 1rem;\n",
       "  line-height: 1em;\n",
       "  font-family: monospace;\n",
       "  background-color: var(--sklearn-color-background);\n",
       "  border-radius: 1rem;\n",
       "  height: 1rem;\n",
       "  width: 1rem;\n",
       "  text-decoration: none;\n",
       "  /* unfitted */\n",
       "  color: var(--sklearn-color-unfitted-level-1);\n",
       "  border: var(--sklearn-color-unfitted-level-1) 1pt solid;\n",
       "}\n",
       "\n",
       "#sk-container-id-1 a.estimator_doc_link.fitted {\n",
       "  /* fitted */\n",
       "  border: var(--sklearn-color-fitted-level-1) 1pt solid;\n",
       "  color: var(--sklearn-color-fitted-level-1);\n",
       "}\n",
       "\n",
       "/* On hover */\n",
       "#sk-container-id-1 a.estimator_doc_link:hover {\n",
       "  /* unfitted */\n",
       "  background-color: var(--sklearn-color-unfitted-level-3);\n",
       "  color: var(--sklearn-color-background);\n",
       "  text-decoration: none;\n",
       "}\n",
       "\n",
       "#sk-container-id-1 a.estimator_doc_link.fitted:hover {\n",
       "  /* fitted */\n",
       "  background-color: var(--sklearn-color-fitted-level-3);\n",
       "}\n",
       "</style><div id=\"sk-container-id-1\" class=\"sk-top-container\"><div class=\"sk-text-repr-fallback\"><pre>GridSearchCV(cv=5, estimator=DecisionTreeClassifier(), n_jobs=-1,\n",
       "             param_grid={&#x27;max_depth&#x27;: [1, 5, 10, 50, 100, 500, 100],\n",
       "                         &#x27;min_samples_split&#x27;: [5, 10, 100, 500]},\n",
       "             scoring=make_scorer(roc_auc_score, response_method=&#x27;predict&#x27;))</pre><b>In a Jupyter environment, please rerun this cell to show the HTML representation or trust the notebook. <br />On GitHub, the HTML representation is unable to render, please try loading this page with nbviewer.org.</b></div><div class=\"sk-container\" hidden><div class=\"sk-item sk-dashed-wrapped\"><div class=\"sk-label-container\"><div class=\"sk-label fitted sk-toggleable\"><input class=\"sk-toggleable__control sk-hidden--visually\" id=\"sk-estimator-id-1\" type=\"checkbox\" ><label for=\"sk-estimator-id-1\" class=\"sk-toggleable__label fitted sk-toggleable__label-arrow fitted\">&nbsp;&nbsp;GridSearchCV<a class=\"sk-estimator-doc-link fitted\" rel=\"noreferrer\" target=\"_blank\" href=\"https://scikit-learn.org/1.5/modules/generated/sklearn.model_selection.GridSearchCV.html\">?<span>Documentation for GridSearchCV</span></a><span class=\"sk-estimator-doc-link fitted\">i<span>Fitted</span></span></label><div class=\"sk-toggleable__content fitted\"><pre>GridSearchCV(cv=5, estimator=DecisionTreeClassifier(), n_jobs=-1,\n",
       "             param_grid={&#x27;max_depth&#x27;: [1, 5, 10, 50, 100, 500, 100],\n",
       "                         &#x27;min_samples_split&#x27;: [5, 10, 100, 500]},\n",
       "             scoring=make_scorer(roc_auc_score, response_method=&#x27;predict&#x27;))</pre></div> </div></div><div class=\"sk-parallel\"><div class=\"sk-parallel-item\"><div class=\"sk-item\"><div class=\"sk-label-container\"><div class=\"sk-label fitted sk-toggleable\"><input class=\"sk-toggleable__control sk-hidden--visually\" id=\"sk-estimator-id-2\" type=\"checkbox\" ><label for=\"sk-estimator-id-2\" class=\"sk-toggleable__label fitted sk-toggleable__label-arrow fitted\">best_estimator_: DecisionTreeClassifier</label><div class=\"sk-toggleable__content fitted\"><pre>DecisionTreeClassifier(max_depth=500, min_samples_split=5)</pre></div> </div></div><div class=\"sk-serial\"><div class=\"sk-item\"><div class=\"sk-estimator fitted sk-toggleable\"><input class=\"sk-toggleable__control sk-hidden--visually\" id=\"sk-estimator-id-3\" type=\"checkbox\" ><label for=\"sk-estimator-id-3\" class=\"sk-toggleable__label fitted sk-toggleable__label-arrow fitted\">&nbsp;DecisionTreeClassifier<a class=\"sk-estimator-doc-link fitted\" rel=\"noreferrer\" target=\"_blank\" href=\"https://scikit-learn.org/1.5/modules/generated/sklearn.tree.DecisionTreeClassifier.html\">?<span>Documentation for DecisionTreeClassifier</span></a></label><div class=\"sk-toggleable__content fitted\"><pre>DecisionTreeClassifier(max_depth=500, min_samples_split=5)</pre></div> </div></div></div></div></div></div></div></div></div>"
      ],
      "text/plain": [
       "GridSearchCV(cv=5, estimator=DecisionTreeClassifier(), n_jobs=-1,\n",
       "             param_grid={'max_depth': [1, 5, 10, 50, 100, 500, 100],\n",
       "                         'min_samples_split': [5, 10, 100, 500]},\n",
       "             scoring=make_scorer(roc_auc_score, response_method='predict'))"
      ]
     },
     "execution_count": 57,
     "metadata": {},
     "output_type": "execute_result"
    }
   ],
   "source": [
    "#Step1: Setup paramgrid\n",
    "\n",
    "from sklearn.tree import DecisionTreeClassifier\n",
    "from sklearn.model_selection import GridSearchCV\n",
    "from sklearn.metrics import make_scorer, roc_auc_score\n",
    "\n",
    "# Define the parameter grid\n",
    "param_grid = {'max_depth':  [1, 5, 10, 50, 100, 500, 100], 'min_samples_split': [5, 10, 100, 500]}\n",
    "\n",
    "# Initialize DecisionTreeClassifier\n",
    "dtclf = DecisionTreeClassifier()\n",
    "\n",
    "\n",
    "########################################################################\n",
    "#step 2: Initialize and Run GridSearchCV\n",
    "\n",
    "# Custom scorer for roc_auc\n",
    "scorer = make_scorer(roc_auc_score, greater_is_better=True, needs_proba=False)\n",
    "\n",
    "# Initialize GridSearchCV\n",
    "grid_search = GridSearchCV(estimator=dtclf, param_grid=param_grid, scoring=scorer, cv=5, n_jobs=-1)\n",
    "\n",
    "# Fit the model\n",
    "grid_search.fit(X_train_set2, y_train)"
   ]
  },
  {
   "cell_type": "code",
   "execution_count": 60,
   "id": "41c55b68",
   "metadata": {},
   "outputs": [
    {
     "name": "stdout",
     "output_type": "stream",
     "text": [
      "Best Parameters: {'max_depth': 500, 'min_samples_split': 5}\n",
      "Best Cross-Validation AUC Score: 0.9095795510246155\n"
     ]
    }
   ],
   "source": [
    "# Get the best parameters and the corresponding AUC score\n",
    "print(f\"Best Parameters: {grid_search.best_params_}\")\n",
    "print(f\"Best Cross-Validation AUC Score: {grid_search.best_score_}\")"
   ]
  }
 ],
 "metadata": {
  "kernelspec": {
   "display_name": "Python 3 (ipykernel)",
   "language": "python",
   "name": "python3"
  },
  "language_info": {
   "codemirror_mode": {
    "name": "ipython",
    "version": 3
   },
   "file_extension": ".py",
   "mimetype": "text/x-python",
   "name": "python",
   "nbconvert_exporter": "python",
   "pygments_lexer": "ipython3",
   "version": "3.10.9"
  }
 },
 "nbformat": 4,
 "nbformat_minor": 5
}
